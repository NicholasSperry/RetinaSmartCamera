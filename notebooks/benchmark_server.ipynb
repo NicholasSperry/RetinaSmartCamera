{
 "cells": [
  {
   "cell_type": "markdown",
   "metadata": {},
   "source": [
    "Server (or Remote) notebook used to measure the throughput and latency of the retina pipeline vs the standard pipeline.\n",
    "\n",
    "This notebook receives the compressed retinal vectors and frames from the benchmark_client notebook."
   ]
  },
  {
   "cell_type": "code",
   "execution_count": 1,
   "metadata": {
    "executionInfo": {
     "elapsed": 37,
     "status": "ok",
     "timestamp": 1612282805665,
     "user": {
      "displayName": "Nicholas Sperry",
      "photoUrl": "",
      "userId": "17478191746282896441"
     },
     "user_tz": -60
    },
    "id": "hDYKAAIxhFNp"
   },
   "outputs": [],
   "source": [
    "#Standard imports\n",
    "import numpy as np\n",
    "from matplotlib import pyplot as plt\n",
    "import cv2\n",
    "import pickle\n",
    "import time\n",
    "import zlib\n",
    "import zmq"
   ]
  },
  {
   "cell_type": "code",
   "execution_count": 2,
   "metadata": {},
   "outputs": [],
   "source": [
    "#Measure latency. n refers to the number of messages to be received\n",
    "def measure_latency(n=100):\n",
    "    #Connect to the client\n",
    "    context = zmq.Context()\n",
    "    socket = context.socket(zmq.PULL)\n",
    "    socket.bind(\"tcp://*:5555\")\n",
    "    \n",
    "    #Save the times at which the messages were received\n",
    "    end_times=[]\n",
    "    for i in range(0, n):\n",
    "        socket.recv()\n",
    "        end_times.append(time.time())\n",
    "    #Get the Client side start times\n",
    "    start_times = eval(socket.recv())\n",
    "    print(\"Done\")\n",
    "    return np.asarray(end_times)-np.asarray(start_times)\n",
    "\n",
    "#Measure the throughput\n",
    "def measure_throughput():\n",
    "    #Connect to the Client\n",
    "    context = zmq.Context()\n",
    "    socket = context.socket(zmq.PULL)\n",
    "    socket.bind(\"tcp://*:5555\")\n",
    "    \n",
    "    #Store the message sizes\n",
    "    size=[]\n",
    "    #Number of messages to be received\n",
    "    n = int(socket.recv())\n",
    "    \n",
    "    #Start timer and see how long it takes to receive the messages\n",
    "    start = time.time()\n",
    "    for i in range(0,n):\n",
    "        data = socket.recv()\n",
    "        size.append(len(data))\n",
    "    end = time.time()\n",
    "    #Return the messages sizes and the time taken to send them\n",
    "    return (size, end-start)\n",
    "    "
   ]
  },
  {
   "cell_type": "markdown",
   "metadata": {},
   "source": [
    "# THROUGHPUT"
   ]
  },
  {
   "cell_type": "code",
   "execution_count": 4,
   "metadata": {},
   "outputs": [
    {
     "name": "stdout",
     "output_type": "stream",
     "text": [
      "Mean Throughput:  18108111836.527355\n"
     ]
    }
   ],
   "source": [
    "### Measure the retinal pipeline throughput over 100 runs\n",
    "retinal_throughputs = []\n",
    "for i in range(0, 100):\n",
    "    #Get messages sizes and time taken to send them\n",
    "    sizes, duration = measure_throughput()\n",
    "    #Divide average size by time taken to get throughput\n",
    "    retinal_throughputs.append(100 * np.mean(sizes)/duration)\n",
    "print('Mean Throughput: ', np.mean(retinal_throughputs))"
   ]
  },
  {
   "cell_type": "code",
   "execution_count": 3,
   "metadata": {},
   "outputs": [
    {
     "name": "stdout",
     "output_type": "stream",
     "text": [
      "Mean Throughput:  16111858289.329155\n"
     ]
    }
   ],
   "source": [
    "### Measure the standard pipeline throughput over 100 runs\n",
    "frame_throughputs = []\n",
    "#Does the same as the retinal pipleine\n",
    "for i in range(0, 100):\n",
    "    sizes, duration = measure_throughput()\n",
    "    frame_throughputs.append(100 * np.mean(sizes)/duration)\n",
    "print('Mean Throughput: ', np.mean(frame_throughputs))"
   ]
  },
  {
   "cell_type": "code",
   "execution_count": 31,
   "metadata": {
    "scrolled": true
   },
   "outputs": [
    {
     "data": {
      "image/png": "[encoded data removed]",
      "text/plain": [
       "<Figure size 432x288 with 1 Axes>"
      ]
     },
     "metadata": {
      "needs_background": "light"
     },
     "output_type": "display_data"
    }
   ],
   "source": [
    "#Plot the throughputs\n",
    "throughputs = [retinal_throughputs, frame_throughputs]\n",
    "plt.boxplot(throughputs, sym='+')\n",
    "plt.xticks([1,2], ['Compressed vector', 'Compressed full frame'])\n",
    "plt.xlabel('Message type', fontweight='bold')\n",
    "plt.ylabel('Throughput (bytes/second)', fontweight='bold')\n",
    "\n",
    "#plt.savefig('throughput.eps')"
   ]
  },
  {
   "cell_type": "markdown",
   "metadata": {},
   "source": [
    "# Latency"
   ]
  },
  {
   "cell_type": "code",
   "execution_count": 28,
   "metadata": {},
   "outputs": [
    {
     "name": "stdout",
     "output_type": "stream",
     "text": [
      "Done\n",
      "Mean latency:  0.007730817794799805\n"
     ]
    }
   ],
   "source": [
    "### Measure latency for the retina pipeline\n",
    "retinal_latency = measure_latency(100)\n",
    "print('Mean latency: ', np.mean(retinal_latency))"
   ]
  },
  {
   "cell_type": "code",
   "execution_count": 23,
   "metadata": {},
   "outputs": [
    {
     "name": "stdout",
     "output_type": "stream",
     "text": [
      "Done\n",
      "Mean latency:  0.019606451988220214\n"
     ]
    }
   ],
   "source": [
    "### Measure latency for the standard pipeline\n",
    "frame_latency = measure_latency(100)\n",
    "print('Mean latency: ', np.mean(frame_latency))"
   ]
  },
  {
   "cell_type": "code",
   "execution_count": 26,
   "metadata": {},
   "outputs": [
    {
     "name": "stdout",
     "output_type": "stream",
     "text": [
      "Done\n",
      "Mean latency:  0.0014734190940856933\n"
     ]
    }
   ],
   "source": [
    "### Measure latency for an arbitrary 64 byte message\n",
    "arbitrary = measure_latency(10000)\n",
    "print('Mean latency: ', np.mean(abitrary))"
   ]
  },
  {
   "cell_type": "code",
   "execution_count": 30,
   "metadata": {},
   "outputs": [
    {
     "data": {
      "image/png": "[encoded data removed]",
      "text/plain": [
       "<Figure size 432x288 with 1 Axes>"
      ]
     },
     "metadata": {
      "needs_background": "light"
     },
     "output_type": "display_data"
    }
   ],
   "source": [
    "#Plot latencies\n",
    "throughputs = [arbitrary, retinal_latency, frame_latency]\n",
    "plt.boxplot(throughputs, sym='+')\n",
    "plt.xticks([1,2], ['Arbitrary', 'Compressed vector', 'Compressed full frame'])\n",
    "plt.xlabel('Message type', fontweight='bold')\n",
    "plt.ylabel('Latency (seconds)', fontweight='bold')\n",
    "\n",
    "#plt.savefig('latency_with_arbitrary.eps')"
   ]
  },
  {
   "cell_type": "code",
   "execution_count": null,
   "metadata": {},
   "outputs": [],
   "source": []
  }
 ],
 "metadata": {
  "colab": {
   "collapsed_sections": [],
   "name": "Server.ipynb",
   "provenance": []
  },
  "kernelspec": {
   "display_name": "Python 3",
   "language": "python",
   "name": "python3"
  },
  "language_info": {
   "codemirror_mode": {
    "name": "ipython",
    "version": 3
   },
   "file_extension": ".py",
   "mimetype": "text/x-python",
   "name": "python",
   "nbconvert_exporter": "python",
   "pygments_lexer": "ipython3",
   "version": "3.7.1"
  }
 },
 "nbformat": 4,
 "nbformat_minor": 1
}
