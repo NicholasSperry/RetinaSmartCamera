{
 "cells": [
  {
   "cell_type": "code",
   "execution_count": 20,
   "metadata": {
    "executionInfo": {
     "elapsed": 37,
     "status": "ok",
     "timestamp": 1612282805665,
     "user": {
      "displayName": "Nicholas Sperry",
      "photoUrl": "",
      "userId": "17478191746282896441"
     },
     "user_tz": -60
    },
    "id": "hDYKAAIxhFNp"
   },
   "outputs": [],
   "source": [
    "import numpy as np\n",
    "from matplotlib import pyplot as plt\n",
    "import cv2\n",
    "import pickle\n",
    "from utils import *\n",
    "import time\n",
    "\n",
    "from dippykit.coding import huffman_encode\n",
    "from dippykit.coding import huffman_decode\n",
    "import zlib\n",
    "\n",
    "import warnings\n",
    "warnings.filterwarnings('ignore')\n",
    "\n",
    "img = cv2.imread('beer.png')"
   ]
  },
  {
   "cell_type": "code",
   "execution_count": 2,
   "metadata": {},
   "outputs": [],
   "source": [
    "root = '/Users/nicholassperry/Desktop/Year 4.nosync/Pipeline/retina_data/cortices/'\n",
    "\n",
    "R = Retina(gpu=False)\n",
    "R.loadLoc('/Users/nicholassperry/Desktop/Year 4.nosync/Pipeline/retina_data/ret50k_loc.pkl')\n",
    "R.loadCoeff('/Users/nicholassperry/Desktop/Year 4.nosync/Pipeline/retina_data/ret50k_coeff.pkl')\n",
    "fixation = (1080/2,1920/2)\n",
    "shape = (1080, 1920)\n",
    "R.prepare(shape, fixation)\n",
    "\n",
    "C = Cortex(gpu=False)\n",
    "C.loadLocs(root+'50k_Lloc_tight.pkl', root+'50k_Rloc_tight.pkl')\n",
    "C.loadCoeffs(root+'50k_Lcoeff_tight.pkl', root+'50k_Rcoeff_tight.pkl')"
   ]
  },
  {
   "cell_type": "code",
   "execution_count": 18,
   "metadata": {},
   "outputs": [],
   "source": [
    "def decode_data(data):\n",
    "    encoded_V = data[0]\n",
    "    code_dict = data[1]\n",
    "    bits = data[2]\n",
    "    \n",
    "    V = huffman_decode(encoded_V, symbol_code_dict=code_dict, stream_length=bits)\n",
    "    return V.reshape((50000, 3))"
   ]
  },
  {
   "cell_type": "code",
   "execution_count": 21,
   "metadata": {
    "colab": {
     "base_uri": "https://localhost:8080/"
    },
    "id": "2RmVq3LpJ-on",
    "outputId": "36f51c90-402e-4ce9-d398-2a6ceb74c652",
    "scrolled": false
   },
   "outputs": [
    {
     "name": "stdout",
     "output_type": "stream",
     "text": [
      "Connecting to Client…\n",
      "----------Report----------\n",
      "Total time: 18.929569\n",
      "Client side total time: 7.827518\n",
      "Server side total time: 11.102051\n",
      "\n",
      "----------Report----------\n",
      "Total time: 16.896350\n",
      "Client side total time: 6.911135\n",
      "Server side total time: 9.985215\n",
      "\n"
     ]
    },
    {
     "ename": "KeyboardInterrupt",
     "evalue": "",
     "output_type": "error",
     "traceback": [
      "\u001b[0;31m---------------------------------------------------------------------------\u001b[0m",
      "\u001b[0;31mKeyboardInterrupt\u001b[0m                         Traceback (most recent call last)",
      "\u001b[0;32m<ipython-input-21-e28f2b77a584>\u001b[0m in \u001b[0;36m<module>\u001b[0;34m()\u001b[0m\n\u001b[1;32m      7\u001b[0m \u001b[0;34m\u001b[0m\u001b[0m\n\u001b[1;32m      8\u001b[0m \u001b[0;32mwhile\u001b[0m \u001b[0;32mTrue\u001b[0m\u001b[0;34m:\u001b[0m\u001b[0;34m\u001b[0m\u001b[0;34m\u001b[0m\u001b[0m\n\u001b[0;32m----> 9\u001b[0;31m     \u001b[0mdata_type\u001b[0m \u001b[0;34m=\u001b[0m \u001b[0mclient_socket\u001b[0m\u001b[0;34m.\u001b[0m\u001b[0mrecv\u001b[0m\u001b[0;34m(\u001b[0m\u001b[0;34m)\u001b[0m\u001b[0;34m\u001b[0m\u001b[0;34m\u001b[0m\u001b[0m\n\u001b[0m\u001b[1;32m     10\u001b[0m \u001b[0;34m\u001b[0m\u001b[0m\n\u001b[1;32m     11\u001b[0m     \u001b[0mret\u001b[0m\u001b[0;34m,\u001b[0m \u001b[0mcort\u001b[0m \u001b[0;34m=\u001b[0m \u001b[0;32mFalse\u001b[0m\u001b[0;34m,\u001b[0m \u001b[0;32mFalse\u001b[0m\u001b[0;34m\u001b[0m\u001b[0;34m\u001b[0m\u001b[0m\n",
      "\u001b[0;32mzmq/backend/cython/socket.pyx\u001b[0m in \u001b[0;36mzmq.backend.cython.socket.Socket.recv\u001b[0;34m()\u001b[0m\n",
      "\u001b[0;32mzmq/backend/cython/socket.pyx\u001b[0m in \u001b[0;36mzmq.backend.cython.socket.Socket.recv\u001b[0;34m()\u001b[0m\n",
      "\u001b[0;32mzmq/backend/cython/socket.pyx\u001b[0m in \u001b[0;36mzmq.backend.cython.socket._recv_copy\u001b[0;34m()\u001b[0m\n",
      "\u001b[0;32m/Applications/anaconda3/lib/python3.7/site-packages/zmq/backend/cython/checkrc.pxd\u001b[0m in \u001b[0;36mzmq.backend.cython.checkrc._check_rc\u001b[0;34m()\u001b[0m\n",
      "\u001b[0;31mKeyboardInterrupt\u001b[0m: "
     ]
    }
   ],
   "source": [
    "import zmq\n",
    "context = zmq.Context()\n",
    "\n",
    "print(\"Connecting to Client…\")\n",
    "client_socket = context.socket(zmq.PULL)\n",
    "client_socket.bind(\"tcp://*:5555\")\n",
    "\n",
    "while True:\n",
    "    data_type = client_socket.recv()\n",
    "    \n",
    "    ret, cort = False, False\n",
    "    if data_type == b'Ret':\n",
    "        ret = True\n",
    "    elif data_type == b'Cort':\n",
    "        cort = True\n",
    "   \n",
    "    start = time.time()\n",
    "    while True:\n",
    "        data = client_socket.recv()\n",
    "        if data == b'Done':\n",
    "            break\n",
    "        \n",
    "        decompressed_data = data#zlib.decompress(data)\n",
    "        image = pickle.loads(decompressed_data)\n",
    "\n",
    "        if ret:\n",
    "            V = decode_data(image)\n",
    "            image = R.backproject_tight(V, (1080,1920,3), fixation)\n",
    "        elif cort:\n",
    "            V = decode_data(image)\n",
    "            image = C.cort_img(V)\n",
    "        \n",
    "        cv2.imshow('Image', image)\n",
    "        if cv2.waitKey(1) & 0xFF == ord('q'):\n",
    "            break\n",
    "    end = time.time()\n",
    "    client_time = float(client_socket.recv())\n",
    "    server_time = end-start\n",
    "    \n",
    "    cv2.destroyWindow('Image')\n",
    "    cv2.waitKey(1)\n",
    "    \n",
    "    print(\"----------Report----------\")\n",
    "    print(\"Total time: %f\"%(client_time+server_time))\n",
    "    print(\"Client side total time: %f\"%(client_time))\n",
    "    print(\"Server side total time: %f\"%(server_time))\n",
    "    print()\n"
   ]
  },
  {
   "cell_type": "code",
   "execution_count": null,
   "metadata": {
    "id": "ZpDVz5DNJBJn"
   },
   "outputs": [],
   "source": [
    "video_path = '/Users/nicholassperry/Desktop/Dataset.nosync/Dataset/Train/Gargoyle.MOV'\n",
    "vidcap = cv2.VideoCapture(video_path)\n",
    "success, img = vidcap.read()\n",
    "\n",
    "count = 1\n",
    "while success:\n",
    "    img = cv2.cvtColor(img, cv2.COLOR_BGR2RGB)\n",
    "    if count ==1:\n",
    "        print(img.shape)\n",
    "    cv2.imshow('Image', img)\n",
    "    if cv2.waitKey(1) & 0xFF == ord('q'):\n",
    "        break\n",
    "    success, img = vidcap.read()\n",
    "    count += 1\n",
    "\n",
    "cv2.destroyWindow('Image')\n",
    "cv2.waitKey(1)\n",
    "vidcap.release()"
   ]
  },
  {
   "cell_type": "code",
   "execution_count": null,
   "metadata": {},
   "outputs": [],
   "source": []
  }
 ],
 "metadata": {
  "colab": {
   "collapsed_sections": [],
   "name": "Server.ipynb",
   "provenance": []
  },
  "kernelspec": {
   "display_name": "Python 3",
   "language": "python",
   "name": "python3"
  },
  "language_info": {
   "codemirror_mode": {
    "name": "ipython",
    "version": 3
   },
   "file_extension": ".py",
   "mimetype": "text/x-python",
   "name": "python",
   "nbconvert_exporter": "python",
   "pygments_lexer": "ipython3",
   "version": "3.7.1"
  }
 },
 "nbformat": 4,
 "nbformat_minor": 1
}
