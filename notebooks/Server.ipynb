{
 "cells": [
  {
   "cell_type": "code",
   "execution_count": 5,
   "metadata": {
    "executionInfo": {
     "elapsed": 37,
     "status": "ok",
     "timestamp": 1612282805665,
     "user": {
      "displayName": "Nicholas Sperry",
      "photoUrl": "",
      "userId": "17478191746282896441"
     },
     "user_tz": -60
    },
    "id": "hDYKAAIxhFNp"
   },
   "outputs": [
    {
     "name": "stdout",
     "output_type": "stream",
     "text": [
      "/Users/nicholassperry/Desktop/Year 4.nosync/Pipeline/cythonised_retina/scripts\n",
      "/Users/nicholassperry/Desktop/Year 4.nosync/Pipeline\n"
     ]
    }
   ],
   "source": [
    "import numpy as np\n",
    "from matplotlib import pyplot as plt\n",
    "import cv2\n",
    "import pickle\n",
    "import time\n",
    "from dippykit.coding import huffman_encode\n",
    "from dippykit.coding import huffman_decode\n",
    "import zlib\n",
    "\n",
    "import warnings\n",
    "warnings.filterwarnings('ignore')\n",
    "\n",
    "#Piotr's Retina\n",
    "from utils import *\n",
    "\n",
    "#Mani's Cythonised code\n",
    "%cd cythonised_retina/scripts\n",
    "import cv2\n",
    "import numpy as np\n",
    "from helpers import *\n",
    "import classes as cy\n",
    "%cd ../..\n",
    "\n",
    "img = cv2.imread('beer.png')"
   ]
  },
  {
   "cell_type": "markdown",
   "metadata": {},
   "source": [
    "## Piotr's Retina"
   ]
  },
  {
   "cell_type": "code",
   "execution_count": 2,
   "metadata": {},
   "outputs": [],
   "source": [
    "root = '/Users/nicholassperry/Desktop/Year 4.nosync/Pipeline/retina_data/cortices/'\n",
    "\n",
    "R = Retina(gpu=False)\n",
    "R.loadLoc('/Users/nicholassperry/Desktop/Year 4.nosync/Pipeline/retina_data/ret50k_loc.pkl')\n",
    "R.loadCoeff('/Users/nicholassperry/Desktop/Year 4.nosync/Pipeline/retina_data/ret50k_coeff.pkl')\n",
    "fixation = (1080/2,1920/2)\n",
    "shape = (1080, 1920)\n",
    "R.prepare(shape, fixation)\n",
    "\n",
    "C = Cortex(gpu=False)\n",
    "C.loadLocs(root+'50k_Lloc_tight.pkl', root+'50k_Rloc_tight.pkl')\n",
    "C.loadCoeffs(root+'50k_Lcoeff_tight.pkl', root+'50k_Rcoeff_tight.pkl')"
   ]
  },
  {
   "cell_type": "markdown",
   "metadata": {},
   "source": [
    "## Mani's Cythonised Retina"
   ]
  },
  {
   "cell_type": "code",
   "execution_count": 6,
   "metadata": {},
   "outputs": [],
   "source": [
    "retina_layers = 'cythonised_retina/data/retina_layers.pkl'\n",
    "left_path = 'cythonised_retina/data/left_path.pkl'\n",
    "right_path = 'cythonised_retina/data/right_path.pkl'\n",
    "\n",
    "cythonised_R = cy.Retina(retina_layers)\n",
    "cythonised_R.calibrate(img)\n",
    "\n",
    "#cythonised_C = cy.Cortex(left_path, right_path)\n",
    "#cythonised_C.calibrate(cythonised_R.getResult())"
   ]
  },
  {
   "cell_type": "code",
   "execution_count": 7,
   "metadata": {},
   "outputs": [],
   "source": [
    "def decode_data(data):\n",
    "    encoded_V = data[0]\n",
    "    code_dict = data[1]\n",
    "    bits = data[2]\n",
    "    \n",
    "    V = huffman_decode(encoded_V, symbol_code_dict=code_dict, stream_length=bits)\n",
    "    return V"
   ]
  },
  {
   "cell_type": "code",
   "execution_count": 8,
   "metadata": {
    "colab": {
     "base_uri": "https://localhost:8080/"
    },
    "id": "2RmVq3LpJ-on",
    "outputId": "36f51c90-402e-4ce9-d398-2a6ceb74c652",
    "scrolled": false
   },
   "outputs": [
    {
     "name": "stdout",
     "output_type": "stream",
     "text": [
      "Connecting to Client…\n"
     ]
    },
    {
     "ename": "error",
     "evalue": "Error -3 while decompressing data: incorrect header check",
     "output_type": "error",
     "traceback": [
      "\u001b[0;31m---------------------------------------------------------------------------\u001b[0m",
      "\u001b[0;31merror\u001b[0m                                     Traceback (most recent call last)",
      "\u001b[0;32m<ipython-input-8-c83c538fba0b>\u001b[0m in \u001b[0;36m<module>\u001b[0;34m()\u001b[0m\n\u001b[1;32m     30\u001b[0m         \u001b[0mt1\u001b[0m \u001b[0;34m=\u001b[0m \u001b[0mtime\u001b[0m\u001b[0;34m.\u001b[0m\u001b[0mtime\u001b[0m\u001b[0;34m(\u001b[0m\u001b[0;34m)\u001b[0m\u001b[0;34m\u001b[0m\u001b[0;34m\u001b[0m\u001b[0m\n\u001b[1;32m     31\u001b[0m \u001b[0;34m\u001b[0m\u001b[0m\n\u001b[0;32m---> 32\u001b[0;31m         \u001b[0mdecompressed_data\u001b[0m \u001b[0;34m=\u001b[0m \u001b[0mzlib\u001b[0m\u001b[0;34m.\u001b[0m\u001b[0mdecompress\u001b[0m\u001b[0;34m(\u001b[0m\u001b[0mdata\u001b[0m\u001b[0;34m)\u001b[0m\u001b[0;34m\u001b[0m\u001b[0;34m\u001b[0m\u001b[0m\n\u001b[0m\u001b[1;32m     33\u001b[0m         \u001b[0mencoded_data\u001b[0m \u001b[0;34m=\u001b[0m \u001b[0mpickle\u001b[0m\u001b[0;34m.\u001b[0m\u001b[0mloads\u001b[0m\u001b[0;34m(\u001b[0m\u001b[0mdecompressed_data\u001b[0m\u001b[0;34m)\u001b[0m\u001b[0;34m\u001b[0m\u001b[0;34m\u001b[0m\u001b[0m\n\u001b[1;32m     34\u001b[0m         \u001b[0mV\u001b[0m \u001b[0;34m=\u001b[0m \u001b[0mdecode_data\u001b[0m\u001b[0;34m(\u001b[0m\u001b[0mencoded_data\u001b[0m\u001b[0;34m)\u001b[0m\u001b[0;34m\u001b[0m\u001b[0;34m\u001b[0m\u001b[0m\n",
      "\u001b[0;31merror\u001b[0m: Error -3 while decompressing data: incorrect header check"
     ]
    }
   ],
   "source": [
    "import zmq\n",
    "context = zmq.Context()\n",
    "\n",
    "print(\"Connecting to Client…\")\n",
    "client_socket = context.socket(zmq.PULL)\n",
    "client_socket.bind(\"tcp://*:5555\")\n",
    "\n",
    "while True:\n",
    "    #Determine if the data will be a regular, retinal, or cortical image\n",
    "    data_type = client_socket.recv()\n",
    "    \n",
    "    ret, cort = False, False\n",
    "    if data_type == b'Ret':\n",
    "        ret = True\n",
    "    elif data_type == b'Cort':\n",
    "        cort = True\n",
    "    \n",
    "    #Whether or not to use the Cythonised Retina\n",
    "    cythonised = client_socket.recv()\n",
    "    \n",
    "    decoding_times = []\n",
    "    backprojection_times = []\n",
    "   \n",
    "    start = time.time()\n",
    "    while True:\n",
    "        data = client_socket.recv()\n",
    "        if data == b'Done':\n",
    "            break\n",
    "        \n",
    "        t1 = time.time()\n",
    "        \n",
    "        decompressed_data = zlib.decompress(data)\n",
    "        encoded_data = pickle.loads(decompressed_data) \n",
    "        V = decode_data(encoded_data)\n",
    "        \n",
    "        t2 = time.time()\n",
    "        \n",
    "        if ret:\n",
    "            if cythonised == b'True':\n",
    "                V = V.reshape((3, 50001))\n",
    "                cythonised_R.sampledVector = V\n",
    "                cythonised_R.backProject()\n",
    "                image = get_retinaBackProjected_BGR(cythonised_R)\n",
    "            \n",
    "            else:   \n",
    "                V = V.reshape((50000, 3))\n",
    "                image = R.backproject_tight(V, (1080,1920,3), fixation)\n",
    "        \n",
    "        elif cort:\n",
    "            if cythonised == b'True':\n",
    "                V = V.reshape((3, 50001))\n",
    "                cythonised_R.sampledVector = V.astype('uint64')\n",
    "                cythonised_C.backProject(cythonised_R.getResult())\n",
    "                image = get_cortexBackProjected_BGR(cythonised_C)\n",
    "            \n",
    "            else:\n",
    "                V = V.reshape((50000, 3))\n",
    "                image = C.cort_img(V)\n",
    "        \n",
    "        else:\n",
    "            image = V.reshape((1080, 1920, 3))\n",
    "        \n",
    "        t3 = time.time()\n",
    "        \n",
    "        decoding_times.append(t2-t1)\n",
    "        backprojection_times.append(t3-t2)\n",
    "        \n",
    "        cv2.imshow('Image', image)\n",
    "        if cv2.waitKey(1) & 0xFF == ord('q'):\n",
    "            break\n",
    "        \n",
    "        \n",
    "    end = time.time()\n",
    "    client_time = float(client_socket.recv())\n",
    "    server_time = end-start\n",
    "    \n",
    "    cv2.destroyWindow('Image')\n",
    "    cv2.waitKey(1)\n",
    "    \n",
    "    print(\"----------Report----------\")\n",
    "    print(\"Total time: %f\"%(client_time+server_time))\n",
    "    print(\"Client side total time: %f\"%(client_time))\n",
    "    print(\"Server side total time: %f\"%(server_time))\n",
    "    \n",
    "    print(\"Server side decoding times: %f\"%sum(decoding_times))\n",
    "    print(\"Server side vector to image times: %f\"%sum(backprojection_times))\n",
    "    print(\"-\"*30)\n",
    "    print()\n",
    "\n",
    "    "
   ]
  },
  {
   "cell_type": "code",
   "execution_count": null,
   "metadata": {
    "id": "ZpDVz5DNJBJn"
   },
   "outputs": [],
   "source": [
    "video_path = '/Users/nicholassperry/Desktop/Dataset.nosync/Dataset/Train/Gargoyle.MOV'\n",
    "vidcap = cv2.VideoCapture(video_path)\n",
    "success, img = vidcap.read()\n",
    "\n",
    "count = 1\n",
    "while success:\n",
    "    img = cv2.cvtColor(img, cv2.COLOR_BGR2RGB)\n",
    "    if count ==1:\n",
    "        print(img.shape)\n",
    "    cv2.imshow('Image', img)\n",
    "    if cv2.waitKey(1) & 0xFF == ord('q'):\n",
    "        break\n",
    "    success, img = vidcap.read()\n",
    "    count += 1\n",
    "\n",
    "cv2.destroyWindow('Image')\n",
    "cv2.waitKey(1)\n",
    "vidcap.release()"
   ]
  },
  {
   "cell_type": "code",
   "execution_count": null,
   "metadata": {},
   "outputs": [],
   "source": []
  }
 ],
 "metadata": {
  "colab": {
   "collapsed_sections": [],
   "name": "Server.ipynb",
   "provenance": []
  },
  "kernelspec": {
   "display_name": "Python 3",
   "language": "python",
   "name": "python3"
  },
  "language_info": {
   "codemirror_mode": {
    "name": "ipython",
    "version": 3
   },
   "file_extension": ".py",
   "mimetype": "text/x-python",
   "name": "python",
   "nbconvert_exporter": "python",
   "pygments_lexer": "ipython3",
   "version": "3.7.1"
  }
 },
 "nbformat": 4,
 "nbformat_minor": 1
}
