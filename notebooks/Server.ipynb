{
 "cells": [
  {
   "cell_type": "code",
   "execution_count": 4,
   "metadata": {
    "executionInfo": {
     "elapsed": 37,
     "status": "ok",
     "timestamp": 1612282805665,
     "user": {
      "displayName": "Nicholas Sperry",
      "photoUrl": "",
      "userId": "17478191746282896441"
     },
     "user_tz": -60
    },
    "id": "hDYKAAIxhFNp"
   },
   "outputs": [],
   "source": [
    "import numpy as np\n",
    "from matplotlib import pyplot as plt\n",
    "import cv2\n",
    "import pickle\n",
    "from utils import *"
   ]
  },
  {
   "cell_type": "code",
   "execution_count": 5,
   "metadata": {},
   "outputs": [],
   "source": [
    "root = '/Users/nicholassperry/Desktop/Year 4.nosync/Pipeline/retina_data/cortices/'\n",
    "\n",
    "R = Retina(gpu=False)\n",
    "R.loadLoc('/Users/nicholassperry/Desktop/Year 4.nosync/Pipeline/retina_data/ret50k_loc.pkl')\n",
    "R.loadCoeff('/Users/nicholassperry/Desktop/Year 4.nosync/Pipeline/retina_data/ret50k_coeff.pkl')\n",
    "fixation = (1080/2,1920/2)\n",
    "shape = (1080, 1920)\n",
    "R.prepare(shape, fixation)\n",
    "\n",
    "C = Cortex(gpu=False)\n",
    "C.loadLocs(root+'50k_Lloc_tight.pkl', root+'50k_Rloc_tight.pkl')\n",
    "C.loadCoeffs(root+'50k_Lcoeff_tight.pkl', root+'50k_Rcoeff_tight.pkl')"
   ]
  },
  {
   "cell_type": "code",
   "execution_count": null,
   "metadata": {
    "colab": {
     "base_uri": "https://localhost:8080/"
    },
    "id": "2RmVq3LpJ-on",
    "outputId": "36f51c90-402e-4ce9-d398-2a6ceb74c652"
   },
   "outputs": [],
   "source": [
    "import zmq\n",
    "context = zmq.Context()\n",
    "\n",
    "print(\"Connecting to Client…\")\n",
    "client_socket = context.socket(zmq.PULL)\n",
    "client_socket.bind(\"tcp://*:5555\")\n",
    "\n",
    "ret = False\n",
    "cort = False\n",
    "while True:\n",
    "    data = client_socket.recv()\n",
    "    print(data)\n",
    "    if data == b'Ret':\n",
    "        ret = True\n",
    "        continue\n",
    "    if data == b'Cort':\n",
    "        cort = True\n",
    "        continue\n",
    "    \n",
    "    if data == b'Done':\n",
    "        cv2.destroyWindow('Image')\n",
    "        cv2.waitKey(1)\n",
    "        ret = False\n",
    "        cort = False\n",
    "        continue\n",
    "    \n",
    "    V = pickle.loads(data)\n",
    "    if ret:\n",
    "        image = R.backproject_tight(V, (1080,1920,3), fixation)\n",
    "    elif cort:\n",
    "        image = C.cort_img(V)\n",
    "    else:\n",
    "        image = V      \n",
    "    \n",
    "    cv2.imshow('Image', image)\n",
    "    if cv2.waitKey(1) & 0xFF == ord('q'):\n",
    "        break\n"
   ]
  },
  {
   "cell_type": "code",
   "execution_count": null,
   "metadata": {
    "id": "ZpDVz5DNJBJn"
   },
   "outputs": [],
   "source": [
    "video_path = '/Users/nicholassperry/Desktop/Dataset.nosync/Dataset/Train/Gargoyle.MOV'\n",
    "vidcap = cv2.VideoCapture(video_path)\n",
    "success, img = vidcap.read()\n",
    "\n",
    "count = 1\n",
    "while success:\n",
    "    img = cv2.cvtColor(img, cv2.COLOR_BGR2RGB)\n",
    "    if count ==1:\n",
    "        print(img.shape)\n",
    "    cv2.imshow('Image', img)\n",
    "    if cv2.waitKey(1) & 0xFF == ord('q'):\n",
    "        break\n",
    "    success, img = vidcap.read()\n",
    "    count += 1\n",
    "\n",
    "cv2.destroyWindow('Image')\n",
    "cv2.waitKey(1)\n",
    "vidcap.release()"
   ]
  },
  {
   "cell_type": "code",
   "execution_count": null,
   "metadata": {},
   "outputs": [],
   "source": []
  }
 ],
 "metadata": {
  "colab": {
   "collapsed_sections": [],
   "name": "Server.ipynb",
   "provenance": []
  },
  "kernelspec": {
   "display_name": "Python 3",
   "language": "python",
   "name": "python3"
  },
  "language_info": {
   "codemirror_mode": {
    "name": "ipython",
    "version": 3
   },
   "file_extension": ".py",
   "mimetype": "text/x-python",
   "name": "python",
   "nbconvert_exporter": "python",
   "pygments_lexer": "ipython3",
   "version": "3.7.1"
  }
 },
 "nbformat": 4,
 "nbformat_minor": 1
}
