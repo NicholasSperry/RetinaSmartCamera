{
 "cells": [
  {
   "cell_type": "code",
   "execution_count": 2,
   "metadata": {
    "executionInfo": {
     "elapsed": 37,
     "status": "ok",
     "timestamp": 1612282805665,
     "user": {
      "displayName": "Nicholas Sperry",
      "photoUrl": "",
      "userId": "17478191746282896441"
     },
     "user_tz": -60
    },
    "id": "hDYKAAIxhFNp"
   },
   "outputs": [],
   "source": [
    "import numpy as np\n",
    "from matplotlib import pyplot as plt\n",
    "import cv2\n",
    "import pickle\n",
    "from utils import *\n",
    "import time\n",
    "\n",
    "from dippykit.coding import huffman_encode\n",
    "from dippykit.coding import huffman_decode\n",
    "import zlib\n",
    "\n",
    "import warnings\n",
    "warnings.filterwarnings('ignore')\n",
    "\n",
    "img = cv2.imread('beer.png')"
   ]
  },
  {
   "cell_type": "code",
   "execution_count": 3,
   "metadata": {},
   "outputs": [],
   "source": [
    "root = '/Users/nicholassperry/Desktop/Year 4.nosync/Pipeline/retina_data/cortices/'\n",
    "\n",
    "R = Retina(gpu=False)\n",
    "R.loadLoc('/Users/nicholassperry/Desktop/Year 4.nosync/Pipeline/retina_data/ret50k_loc.pkl')\n",
    "R.loadCoeff('/Users/nicholassperry/Desktop/Year 4.nosync/Pipeline/retina_data/ret50k_coeff.pkl')\n",
    "fixation = (1080/2,1920/2)\n",
    "shape = (1080, 1920)\n",
    "R.prepare(shape, fixation)\n",
    "\n",
    "C = Cortex(gpu=False)\n",
    "C.loadLocs(root+'50k_Lloc_tight.pkl', root+'50k_Rloc_tight.pkl')\n",
    "C.loadCoeffs(root+'50k_Lcoeff_tight.pkl', root+'50k_Rcoeff_tight.pkl')"
   ]
  },
  {
   "cell_type": "code",
   "execution_count": 11,
   "metadata": {},
   "outputs": [],
   "source": [
    "def decode_data(data):\n",
    "    encoded_V = data[0]\n",
    "    code_dict = data[1]\n",
    "    bits = data[2]\n",
    "    \n",
    "    V = huffman_decode(encoded_V, symbol_code_dict=code_dict, stream_length=bits)\n",
    "    return V.astype('uint8')"
   ]
  },
  {
   "cell_type": "code",
   "execution_count": 14,
   "metadata": {
    "colab": {
     "base_uri": "https://localhost:8080/"
    },
    "id": "2RmVq3LpJ-on",
    "outputId": "36f51c90-402e-4ce9-d398-2a6ceb74c652",
    "scrolled": false
   },
   "outputs": [
    {
     "name": "stdout",
     "output_type": "stream",
     "text": [
      "Connecting to Client…\n",
      "----------Report----------\n",
      "Total time: 107.960884\n",
      "Client side total time: 25.995316\n",
      "Server side total time: 81.965568\n",
      "Server side decoding times: 74.591167\n",
      "Server side vector to image times: 0.002037\n",
      "------------------------------\n",
      "\n",
      "----------Report----------\n",
      "Total time: 67.671174\n",
      "Client side total time: 44.274118\n",
      "Server side total time: 23.397056\n",
      "Server side decoding times: 1.403816\n",
      "Server side vector to image times: 21.914256\n",
      "------------------------------\n",
      "\n"
     ]
    },
    {
     "ename": "KeyboardInterrupt",
     "evalue": "",
     "output_type": "error",
     "traceback": [
      "\u001b[0;31m---------------------------------------------------------------------------\u001b[0m",
      "\u001b[0;31mKeyboardInterrupt\u001b[0m                         Traceback (most recent call last)",
      "\u001b[0;32m<ipython-input-14-7b9de930f1ea>\u001b[0m in \u001b[0;36m<module>\u001b[0;34m()\u001b[0m\n\u001b[1;32m      7\u001b[0m \u001b[0;34m\u001b[0m\u001b[0m\n\u001b[1;32m      8\u001b[0m \u001b[0;32mwhile\u001b[0m \u001b[0;32mTrue\u001b[0m\u001b[0;34m:\u001b[0m\u001b[0;34m\u001b[0m\u001b[0;34m\u001b[0m\u001b[0m\n\u001b[0;32m----> 9\u001b[0;31m     \u001b[0mdata_type\u001b[0m \u001b[0;34m=\u001b[0m \u001b[0mclient_socket\u001b[0m\u001b[0;34m.\u001b[0m\u001b[0mrecv\u001b[0m\u001b[0;34m(\u001b[0m\u001b[0;34m)\u001b[0m\u001b[0;34m\u001b[0m\u001b[0;34m\u001b[0m\u001b[0m\n\u001b[0m\u001b[1;32m     10\u001b[0m \u001b[0;34m\u001b[0m\u001b[0m\n\u001b[1;32m     11\u001b[0m     \u001b[0mret\u001b[0m\u001b[0;34m,\u001b[0m \u001b[0mcort\u001b[0m \u001b[0;34m=\u001b[0m \u001b[0;32mFalse\u001b[0m\u001b[0;34m,\u001b[0m \u001b[0;32mFalse\u001b[0m\u001b[0;34m\u001b[0m\u001b[0;34m\u001b[0m\u001b[0m\n",
      "\u001b[0;32mzmq/backend/cython/socket.pyx\u001b[0m in \u001b[0;36mzmq.backend.cython.socket.Socket.recv\u001b[0;34m()\u001b[0m\n",
      "\u001b[0;32mzmq/backend/cython/socket.pyx\u001b[0m in \u001b[0;36mzmq.backend.cython.socket.Socket.recv\u001b[0;34m()\u001b[0m\n",
      "\u001b[0;32mzmq/backend/cython/socket.pyx\u001b[0m in \u001b[0;36mzmq.backend.cython.socket._recv_copy\u001b[0;34m()\u001b[0m\n",
      "\u001b[0;32m/Applications/anaconda3/lib/python3.7/site-packages/zmq/backend/cython/checkrc.pxd\u001b[0m in \u001b[0;36mzmq.backend.cython.checkrc._check_rc\u001b[0;34m()\u001b[0m\n",
      "\u001b[0;31mKeyboardInterrupt\u001b[0m: "
     ]
    }
   ],
   "source": [
    "import zmq\n",
    "context = zmq.Context()\n",
    "\n",
    "print(\"Connecting to Client…\")\n",
    "client_socket = context.socket(zmq.PULL)\n",
    "client_socket.bind(\"tcp://*:5555\")\n",
    "\n",
    "while True:\n",
    "    data_type = client_socket.recv()\n",
    "    \n",
    "    ret, cort = False, False\n",
    "    if data_type == b'Ret':\n",
    "        ret = True\n",
    "    elif data_type == b'Cort':\n",
    "        cort = True\n",
    "    \n",
    "    decoding_times = []\n",
    "    backprojection_times = []\n",
    "   \n",
    "    start = time.time()\n",
    "    while True:\n",
    "        data = client_socket.recv()\n",
    "        if data == b'Done':\n",
    "            break\n",
    "        \n",
    "        t1 = time.time()\n",
    "        \n",
    "        decompressed_data = zlib.decompress(data)\n",
    "        encoded_data = pickle.loads(decompressed_data) \n",
    "        V = decode_data(encoded_data)\n",
    "        \n",
    "        t2 = time.time()\n",
    "        \n",
    "        if ret:\n",
    "            V = V.reshape((50000, 3))\n",
    "            image = R.backproject_tight(V, (1080,1920,3), fixation)\n",
    "        elif cort:\n",
    "            V = V.reshape((50000, 3))\n",
    "            image = C.cort_img(V)\n",
    "        else:\n",
    "            image = V.reshape((1080, 1920, 3))\n",
    "        \n",
    "        t3 = time.time()\n",
    "        \n",
    "        decoding_times.append(t2-t1)\n",
    "        backprojection_times.append(t3-t2)\n",
    "        \n",
    "        cv2.imshow('Image', image)\n",
    "        if cv2.waitKey(1) & 0xFF == ord('q'):\n",
    "            break\n",
    "        \n",
    "        \n",
    "    end = time.time()\n",
    "    client_time = float(client_socket.recv())\n",
    "    server_time = end-start\n",
    "    \n",
    "    cv2.destroyWindow('Image')\n",
    "    cv2.waitKey(1)\n",
    "    \n",
    "    print(\"----------Report----------\")\n",
    "    print(\"Total time: %f\"%(client_time+server_time))\n",
    "    print(\"Client side total time: %f\"%(client_time))\n",
    "    print(\"Server side total time: %f\"%(server_time))\n",
    "    \n",
    "    print(\"Server side decoding times: %f\"%sum(decoding_times))\n",
    "    print(\"Server side vector to image times: %f\"%sum(backprojection_times))\n",
    "    print(\"-\"*30)\n",
    "    print()\n",
    "\n",
    "    "
   ]
  },
  {
   "cell_type": "code",
   "execution_count": null,
   "metadata": {
    "id": "ZpDVz5DNJBJn"
   },
   "outputs": [],
   "source": [
    "video_path = '/Users/nicholassperry/Desktop/Dataset.nosync/Dataset/Train/Gargoyle.MOV'\n",
    "vidcap = cv2.VideoCapture(video_path)\n",
    "success, img = vidcap.read()\n",
    "\n",
    "count = 1\n",
    "while success:\n",
    "    img = cv2.cvtColor(img, cv2.COLOR_BGR2RGB)\n",
    "    if count ==1:\n",
    "        print(img.shape)\n",
    "    cv2.imshow('Image', img)\n",
    "    if cv2.waitKey(1) & 0xFF == ord('q'):\n",
    "        break\n",
    "    success, img = vidcap.read()\n",
    "    count += 1\n",
    "\n",
    "cv2.destroyWindow('Image')\n",
    "cv2.waitKey(1)\n",
    "vidcap.release()"
   ]
  },
  {
   "cell_type": "code",
   "execution_count": null,
   "metadata": {},
   "outputs": [],
   "source": []
  }
 ],
 "metadata": {
  "colab": {
   "collapsed_sections": [],
   "name": "Server.ipynb",
   "provenance": []
  },
  "kernelspec": {
   "display_name": "Python 3",
   "language": "python",
   "name": "python3"
  },
  "language_info": {
   "codemirror_mode": {
    "name": "ipython",
    "version": 3
   },
   "file_extension": ".py",
   "mimetype": "text/x-python",
   "name": "python",
   "nbconvert_exporter": "python",
   "pygments_lexer": "ipython3",
   "version": "3.7.1"
  }
 },
 "nbformat": 4,
 "nbformat_minor": 1
}
