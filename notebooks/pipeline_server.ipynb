{
 "cells": [
  {
   "cell_type": "code",
   "execution_count": 1,
   "metadata": {},
   "outputs": [
    {
     "name": "stdout",
     "output_type": "stream",
     "text": [
      "importing Jupyter notebook from RetinaUtils.ipynb\n",
      "importing Jupyter notebook from PCN.ipynb\n"
     ]
    }
   ],
   "source": [
    "#!pip install import-ipynb\n",
    "import import_ipynb\n",
    "from RetinaUtils import Cortex\n",
    "from PCN import PCN\n",
    "\n",
    "import numpy as np\n",
    "import cv2\n",
    "import zmq\n",
    "import pickle\n",
    "from matplotlib import pyplot as plt\n",
    "import zlib\n",
    "\n",
    "import torch\n",
    "import torch.nn as nn\n",
    "import torch.nn.functional as F\n",
    "from torchvision.transforms import transforms"
   ]
  },
  {
   "cell_type": "code",
   "execution_count": 2,
   "metadata": {},
   "outputs": [],
   "source": [
    "#Check if gpu is available\n",
    "gpu = torch.cuda.is_available()\n",
    "device = torch.device('cuda:0' if gpu else 'cpu')"
   ]
  },
  {
   "cell_type": "code",
   "execution_count": 3,
   "metadata": {},
   "outputs": [],
   "source": [
    "#Load Piotr's Cortex\n",
    "C = Cortex(gpu=gpu)\n",
    "data_dir = '../retina_data/cortices/'\n",
    "C.loadLocs(data_dir+'50k_Lloc_tight.pkl', data_dir+'50k_Rloc_tight.pkl')\n",
    "C.loadCoeffs(data_dir+'50k_Lcoeff_tight.pkl', data_dir+'50k_Rcoeff_tight.pkl')"
   ]
  },
  {
   "cell_type": "code",
   "execution_count": 4,
   "metadata": {},
   "outputs": [
    {
     "data": {
      "text/plain": [
       "PCN(\n",
       "  (PC_block1): Sequential(\n",
       "    (0): BatchNorm2d(3, eps=1e-05, momentum=0.1, affine=True, track_running_stats=True)\n",
       "    (1): PcConv(\n",
       "      (relu): ReLU(inplace=True)\n",
       "      (FFconv): Conv2d(3, 64, kernel_size=(3, 3), stride=(1, 1), padding=(1, 1), bias=False)\n",
       "      (FBconv): ConvTranspose2d(64, 3, kernel_size=(3, 3), stride=(1, 1), padding=(1, 1), bias=False)\n",
       "      (bypass): Conv2d(3, 64, kernel_size=(1, 1), stride=(1, 1), bias=False)\n",
       "    )\n",
       "  )\n",
       "  (PC_block2): Sequential(\n",
       "    (0): BatchNorm2d(64, eps=1e-05, momentum=0.1, affine=True, track_running_stats=True)\n",
       "    (1): PcConv(\n",
       "      (relu): ReLU(inplace=True)\n",
       "      (FFconv): Conv2d(64, 64, kernel_size=(3, 3), stride=(1, 1), padding=(1, 1), bias=False)\n",
       "      (FBconv): ConvTranspose2d(64, 64, kernel_size=(3, 3), stride=(1, 1), padding=(1, 1), bias=False)\n",
       "      (bypass): Conv2d(64, 64, kernel_size=(1, 1), stride=(1, 1), bias=False)\n",
       "    )\n",
       "  )\n",
       "  (PC_block3): Sequential(\n",
       "    (0): BatchNorm2d(64, eps=1e-05, momentum=0.1, affine=True, track_running_stats=True)\n",
       "    (1): PcConv(\n",
       "      (relu): ReLU(inplace=True)\n",
       "      (FFconv): Conv2d(64, 128, kernel_size=(3, 3), stride=(1, 1), padding=(1, 1), bias=False)\n",
       "      (FBconv): ConvTranspose2d(128, 64, kernel_size=(3, 3), stride=(1, 1), padding=(1, 1), bias=False)\n",
       "      (bypass): Conv2d(64, 128, kernel_size=(1, 1), stride=(1, 1), bias=False)\n",
       "    )\n",
       "    (2): MaxPool2d(kernel_size=2, stride=2, padding=0, dilation=1, ceil_mode=False)\n",
       "  )\n",
       "  (final_bn): Sequential(\n",
       "    (0): BatchNorm2d(128, eps=1e-05, momentum=0.1, affine=True, track_running_stats=True)\n",
       "    (1): ReLU(inplace=True)\n",
       "  )\n",
       "  (fc): Linear(in_features=128, out_features=11, bias=True)\n",
       ")"
      ]
     },
     "execution_count": 4,
     "metadata": {},
     "output_type": "execute_result"
    }
   ],
   "source": [
    "#Load the pre-trained model\n",
    "model = PCN(num_classes=11, circles=4)\n",
    "model_dict = torch.load('../models/final_PCN_cortical.pt', map_location=device)\n",
    "model.load_state_dict(model_dict['model_state_dict'])\n",
    "model.to(device)"
   ]
  },
  {
   "cell_type": "code",
   "execution_count": 18,
   "metadata": {},
   "outputs": [],
   "source": [
    "#Connect to the Client\n",
    "context = zmq.Context()\n",
    "socket = context.socket(zmq.PULL)\n",
    "socket.bind(\"tcp://*:5555\")"
   ]
  },
  {
   "cell_type": "code",
   "execution_count": 19,
   "metadata": {},
   "outputs": [
    {
     "name": "stdout",
     "output_type": "stream",
     "text": [
      "Accuracy: 90.0\n"
     ]
    }
   ],
   "source": [
    "#Get number of batches being sent\n",
    "dataset_length = int(socket.recv())\n",
    "\n",
    "#Used to calculate final accuracy\n",
    "correct=0\n",
    "total=0\n",
    "\n",
    "#Receive the images\n",
    "for i in range(0, dataset_length):\n",
    "    \n",
    "    data = socket.recv()\n",
    "    #Decompress and load the retinal vector\n",
    "    data = zlib.decompress(data)\n",
    "    vectors, labels = pickle.loads(data)\n",
    "    #Backproject into cortical image\n",
    "    batch = []\n",
    "    for V in vectors:\n",
    "        #Model expects normalised images, so divide by 255.0\n",
    "        cortical_img = C.cort_img(V).astype('float32')/255.0\n",
    "        batch.append(cortical_img)\n",
    "    \n",
    "    #Get the batches to the correct dimensions\n",
    "    batch = torch.as_tensor(batch).permute(0,3,1,2).to(device)\n",
    "    batch = F.interpolate(batch, (64,64))\n",
    "    labels = torch.as_tensor(labels).float().to(device)\n",
    "    \n",
    "    #Calculate accuracy\n",
    "    with torch.no_grad():\n",
    "        #Get prediction\n",
    "        out = model(batch)\n",
    "        _, predicted = torch.max(out.data, 1)\n",
    "        total += out.size(0)\n",
    "        #Check if its correct\n",
    "        correct += (predicted==labels).sum().item()\n",
    "    \n",
    "#Print final accuracy\n",
    "print(f'Accuracy: {100.0*correct/total}')"
   ]
  },
  {
   "cell_type": "code",
   "execution_count": null,
   "metadata": {},
   "outputs": [],
   "source": []
  }
 ],
 "metadata": {
  "kernelspec": {
   "display_name": "Python 3",
   "language": "python",
   "name": "python3"
  },
  "language_info": {
   "codemirror_mode": {
    "name": "ipython",
    "version": 3
   },
   "file_extension": ".py",
   "mimetype": "text/x-python",
   "name": "python",
   "nbconvert_exporter": "python",
   "pygments_lexer": "ipython3",
   "version": "3.7.1"
  }
 },
 "nbformat": 4,
 "nbformat_minor": 2
}
