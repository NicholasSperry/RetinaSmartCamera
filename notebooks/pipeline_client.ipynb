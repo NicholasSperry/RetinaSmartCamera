{
 "cells": [
  {
   "cell_type": "code",
   "execution_count": null,
   "metadata": {},
   "outputs": [],
   "source": [
    "#!pip install import-ipynb"
   ]
  },
  {
   "cell_type": "code",
   "execution_count": 3,
   "metadata": {},
   "outputs": [
    {
     "name": "stdout",
     "output_type": "stream",
     "text": [
      "importing Jupyter notebook from RetinaUtils.ipynb\n",
      "importing Jupyter notebook from DataLoaders.ipynb\n"
     ]
    }
   ],
   "source": [
    "import import_ipynb\n",
    "from RetinaUtils import Retina\n",
    "from DataLoaders import get_dataloader\n",
    "\n",
    "import numpy as np\n",
    "import cv2\n",
    "import zmq\n",
    "import time\n",
    "import pickle\n",
    "from matplotlib import pyplot as plt\n",
    "import zlib\n",
    "\n",
    "import torch"
   ]
  },
  {
   "cell_type": "code",
   "execution_count": 4,
   "metadata": {},
   "outputs": [],
   "source": [
    "#Load Piotr's Retina\n",
    "gpu = torch.cuda.is_available()\n",
    "R = Retina(gpu=gpu)\n",
    "R.loadLoc('../retina_data/retinas/ret50k_loc.pkl')\n",
    "R.loadCoeff('../retina_data/retinas/ret50k_coeff.pkl')\n",
    "fixation = (1080/2,1920/2)\n",
    "shape = (1080, 1920)\n",
    "R.prepare(shape, fixation)"
   ]
  },
  {
   "cell_type": "code",
   "execution_count": 105,
   "metadata": {},
   "outputs": [],
   "source": [
    "#Get images\n",
    "batch_size = 8\n",
    "dataloader = get_dataloader(image_type='original', personal=True, skip=800, batch_size=batch_size)\n",
    "#Determine amount of images\n",
    "dataset = dataloader['test']\n",
    "dataset_length = len(dataset)"
   ]
  },
  {
   "cell_type": "code",
   "execution_count": 125,
   "metadata": {},
   "outputs": [],
   "source": [
    "#Connect to the server\n",
    "context = zmq.Context()\n",
    "socket = context.socket(zmq.PUSH)\n",
    "socket.connect(\"tcp://localhost:5555\")\n",
    "#Send dataset size\n",
    "socket.send_string(str(dataset_length))\n",
    "\n",
    "#Iterate over dataloader\n",
    "for batch, labels in dataset:\n",
    "    vectors = []\n",
    "    #Piotr's Retina only works with single Numpy arrays, so we need to sample\n",
    "    #each image individually\n",
    "    for img in batch:\n",
    "        img = img.permute(1,2,0).numpy()*255\n",
    "        V = R.sample(img, fixation).astype('uint8')\n",
    "        vectors.append(V)\n",
    "    \n",
    "    #Compress and send the retinal vectors and labels \n",
    "    data = pickle.dumps([vectors, labels], protocol=-1)\n",
    "    data = zlib.compress(data, 6)\n",
    "    socket.send(data)"
   ]
  },
  {
   "cell_type": "code",
   "execution_count": null,
   "metadata": {},
   "outputs": [],
   "source": []
  }
 ],
 "metadata": {
  "kernelspec": {
   "display_name": "Python 3",
   "language": "python",
   "name": "python3"
  },
  "language_info": {
   "codemirror_mode": {
    "name": "ipython",
    "version": 3
   },
   "file_extension": ".py",
   "mimetype": "text/x-python",
   "name": "python",
   "nbconvert_exporter": "python",
   "pygments_lexer": "ipython3",
   "version": "3.7.1"
  }
 },
 "nbformat": 4,
 "nbformat_minor": 2
}
