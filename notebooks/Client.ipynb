{
 "cells": [
  {
   "cell_type": "code",
   "execution_count": null,
   "metadata": {
    "id": "fW-HZbLyJAHq"
   },
   "outputs": [],
   "source": [
    "#!pip install dippykit"
   ]
  },
  {
   "cell_type": "code",
   "execution_count": 34,
   "metadata": {
    "executionInfo": {
     "elapsed": 1936,
     "status": "ok",
     "timestamp": 1612282335837,
     "user": {
      "displayName": "Nicholas Sperry",
      "photoUrl": "",
      "userId": "17478191746282896441"
     },
     "user_tz": -60
    },
    "id": "G1d_-yoVJAHx"
   },
   "outputs": [],
   "source": [
    "import numpy as np\n",
    "import cv2\n",
    "import zmq\n",
    "import time\n",
    "#from statistics import stdev\n",
    "from utils import *\n",
    "from dippykit.coding import huffman_encode\n",
    "from dippykit.coding import huffman_decode\n",
    "import pickle\n",
    "from matplotlib import pyplot as plt\n",
    "import zlib\n",
    "import base64\n",
    "\n",
    "img = cv2.imread('beer.png')"
   ]
  },
  {
   "cell_type": "code",
   "execution_count": 35,
   "metadata": {},
   "outputs": [],
   "source": [
    "R = Retina(gpu=False)\n",
    "R.loadLoc('/Users/nicholassperry/Desktop/Year 4.nosync/Pipeline/retina_data/ret50k_loc.pkl')\n",
    "R.loadCoeff('/Users/nicholassperry/Desktop/Year 4.nosync/Pipeline/retina_data/ret50k_coeff.pkl')\n",
    "fixation = (1080/2,1920/2)\n",
    "shape = (1080, 1920)\n",
    "R.prepare(shape, fixation)\n",
    "\n",
    "V = R.sample(img, fixation).astype('uint8')"
   ]
  },
  {
   "cell_type": "code",
   "execution_count": 44,
   "metadata": {
    "executionInfo": {
     "elapsed": 74,
     "status": "ok",
     "timestamp": 1612282712205,
     "user": {
      "displayName": "Nicholas Sperry",
      "photoUrl": "",
      "userId": "17478191746282896441"
     },
     "user_tz": -60
    },
    "id": "XsUZoIwuU2Ms"
   },
   "outputs": [],
   "source": [
    "def send_image(n=5):\n",
    "    video_path = '/Users/nicholassperry/Desktop/Dataset.nosync/Dataset/Train/Gargoyle.MOV'\n",
    "    vidcap = cv2.VideoCapture(video_path)\n",
    "    success, img = vidcap.read()\n",
    "\n",
    "    count = 1\n",
    "    pickling_times = []\n",
    "    sending_times = []\n",
    "    total_start = time.time()\n",
    "    while success:\n",
    "        if count%n == 0:\n",
    "            break\n",
    "        img = cv2.cvtColor(img, cv2.COLOR_BGR2RGB)\n",
    "        \n",
    "        t1 = time.time()\n",
    "        \n",
    "        data = pickle.dumps(img, protocol=-1)\n",
    "        data = zlib.compress(data, 6)\n",
    "        \n",
    "        t2 = time.time()\n",
    "        \n",
    "        tracker = socket.send(data, copy=False, track=True)\n",
    "        while tracker.done == False:\n",
    "            pass\n",
    "            \n",
    "        t3 = time.time()\n",
    "        \n",
    "        pickling_times.append(t2-t1)\n",
    "        sending_times.append(t3-t2)\n",
    "        \n",
    "        success, img = vidcap.read()\n",
    "        count += 1\n",
    "    total_end = time.time()\n",
    "    socket.send(b'Done')\n",
    "    socket.send_string(str(total_end-total_start))\n",
    "    \n",
    "    print('Successfully converted video to %d frames'%count)\n",
    "    \n",
    "    print('\\nProcessing time: %f'%sum(pickling_times))    \n",
    "    print('Time taken to send: %f'%sum(sending_times))\n",
    "    print('Overall total time: %f'%(total_end-total_start))"
   ]
  },
  {
   "cell_type": "code",
   "execution_count": 56,
   "metadata": {
    "executionInfo": {
     "elapsed": 123,
     "status": "ok",
     "timestamp": 1612282469191,
     "user": {
      "displayName": "Nicholas Sperry",
      "photoUrl": "",
      "userId": "17478191746282896441"
     },
     "user_tz": -60
    },
    "id": "dZfFomPrJAH0"
   },
   "outputs": [],
   "source": [
    "def send_full_vector(n=5):\n",
    "    video_path = '/Users/nicholassperry/Desktop/Dataset.nosync/Dataset/Train/Gargoyle.MOV'\n",
    "    vidcap = cv2.VideoCapture(video_path)\n",
    "    success, img = vidcap.read()\n",
    "\n",
    "    count = 1\n",
    "    processing_times = []\n",
    "    sending_times = []\n",
    "    total_start = time.time()\n",
    "    \n",
    "    while success:\n",
    "        print(count)\n",
    "        if count%n == 0:\n",
    "            break\n",
    "        img = cv2.cvtColor(img, cv2.COLOR_BGR2RGB)\n",
    "\n",
    "        t1 = time.time()\n",
    "        \n",
    "        V = R.sample(img, fixation).astype('uint8')\n",
    "        V = pickle.dumps(V, protocol=-1)\n",
    "        #V = V.tostring()\n",
    "        \n",
    "        t2 = time.time()\n",
    "        \n",
    "        tracker = socket.send(V, copy=False, track=True)\n",
    "        while tracker.done == False:\n",
    "            pass\n",
    "            \n",
    "        t3 = time.time()\n",
    "\n",
    "        processing_times.append(t2-t1)\n",
    "        sending_times.append(t3-t2)\n",
    "        \n",
    "        success, img = vidcap.read()\n",
    "        count += 1\n",
    "    total_end = time.time()\n",
    "    print('Successfully converted video to %d frames'%count)\n",
    "    \n",
    "    print('\\nProcessing time: %f'%sum(processing_times))    \n",
    "    print('Time taken to send: %f'%sum(sending_times))\n",
    "    print('Overall total time: %f'%(total_end-total_start))\n",
    "\n",
    "def send_encoded_vector(n):\n",
    "    video_path = '/Users/nicholassperry/Desktop/Dataset.nosync/Dataset/Train/Gargoyle.MOV'\n",
    "    vidcap = cv2.VideoCapture(video_path)\n",
    "    success, img = vidcap.read()\n",
    "\n",
    "    count = 1\n",
    "    huffman_times = []\n",
    "    sampling_times = []\n",
    "    sending_times = []\n",
    "    total_start = time.time()\n",
    "    while success:\n",
    "        print(count, end='\\r')\n",
    "        if count%n == 0:\n",
    "            break\n",
    "        #img = cv2.cvtColor(img, cv2.COLOR_BGR2RGB)\n",
    "        \n",
    "        t1 = time.time()\n",
    "        \n",
    "        V = R.sample(img, fixation).astype('uint8')\n",
    "        \n",
    "        t2 = time.time()\n",
    "        \n",
    "        encoded_V, bits, code_dict, _ = huffman_encode(V.flatten())\n",
    "        data = [encoded_V, code_dict, bits]\n",
    "        data = pickle.dumps(data, protocol=-1)\n",
    "        #data = zlib.compress(data, 6)\n",
    "        \n",
    "        t3 = time.time()\n",
    "        \n",
    "        tracker = socket.send(data, copy=False, track=True)\n",
    "        while tracker.done == False:\n",
    "            pass\n",
    "\n",
    "        t4 = time.time()\n",
    "        \n",
    "        sampling_times.append(t2-t1)\n",
    "        huffman_times.append(t3-t2)\n",
    "        sending_times.append(t4-t3)\n",
    "        success, img = vidcap.read()\n",
    "        count += 1\n",
    "    total_end = time.time()\n",
    "    \n",
    "    socket.send(b'Done')\n",
    "    socket.send_string(str(total_end-total_start))\n",
    "    \n",
    "    print('Successfully converted video to %d frames'%count)\n",
    "    \n",
    "    print('\\nSampling time: %f'%sum(sampling_times))\n",
    "    print('Huffman encoding time: %f'%sum(huffman_times))\n",
    "    print('Time taken to send: %f'%sum(sending_times))\n",
    "    print('Overall total time: %f'%(total_end-total_start))"
   ]
  },
  {
   "cell_type": "code",
   "execution_count": 46,
   "metadata": {
    "colab": {
     "base_uri": "https://localhost:8080/"
    },
    "executionInfo": {
     "elapsed": 3233,
     "status": "ok",
     "timestamp": 1612283236059,
     "user": {
      "displayName": "Nicholas Sperry",
      "photoUrl": "",
      "userId": "17478191746282896441"
     },
     "user_tz": -60
    },
    "id": "pZSZU-oeX8WW",
    "outputId": "603bb99e-a753-49ec-db4b-a08ef56fc7dd"
   },
   "outputs": [
    {
     "name": "stdout",
     "output_type": "stream",
     "text": [
      "Connecting to Server…\n",
      "Successfully converted video to 5 frames\n",
      "\n",
      "Processing time: 0.752174\n",
      "Time taken to send: 0.033682\n",
      "Overall total time: 0.817037\n"
     ]
    }
   ],
   "source": [
    "context = zmq.Context()\n",
    "\n",
    "#  Socket to talk to server\n",
    "print(\"Connecting to Server…\")\n",
    "socket = context.socket(zmq.PUSH)\n",
    "socket.connect(\"tcp://localhost:5555\")\n",
    "time.sleep(2)\n",
    "\n",
    "socket.send(b'Normal')\n",
    "send_image(n=5)\n",
    "\n",
    "socket.close()"
   ]
  },
  {
   "cell_type": "code",
   "execution_count": 57,
   "metadata": {
    "colab": {
     "base_uri": "https://localhost:8080/"
    },
    "executionInfo": {
     "elapsed": 21810,
     "status": "ok",
     "timestamp": 1612263853198,
     "user": {
      "displayName": "Nicholas Sperry",
      "photoUrl": "",
      "userId": "17478191746282896441"
     },
     "user_tz": -60
    },
    "id": "-edLeZWSJAH2",
    "outputId": "c6aeefb7-d3e1-4e7f-cd29-dbd9e4d42284"
   },
   "outputs": [
    {
     "name": "stdout",
     "output_type": "stream",
     "text": [
      "Connecting to Server…\n",
      "Successfully converted video to 3 frames\n",
      "\n",
      "Sampling time: 6.692271\n",
      "Huffman encoding time: 0.191236\n",
      "Time taken to send: 0.013533\n",
      "Overall total time: 6.911135\n"
     ]
    }
   ],
   "source": [
    "context = zmq.Context()\n",
    "\n",
    "#  Socket to talk to server\n",
    "print(\"Connecting to Server…\")\n",
    "socket = context.socket(zmq.PUSH)\n",
    "socket.connect(\"tcp://localhost:5555\")\n",
    "\n",
    "socket.send(b'Cort')\n",
    "send_encoded_vector(n=3)\n",
    "\n",
    "socket.close()"
   ]
  },
  {
   "cell_type": "code",
   "execution_count": null,
   "metadata": {
    "id": "1t035wiGJAH2"
   },
   "outputs": [],
   "source": [
    "context = zmq.Context()\n",
    "\n",
    "#  Socket to talk to server\n",
    "print(\"Connecting to Server…\")\n",
    "socket = context.socket(zmq.PUSH)\n",
    "socket.connect(\"tcp://localhost:5555\")\n",
    "\n",
    "socket.send(b'Cort')\n",
    "send_full_vector(n=2)\n",
    "\n",
    "socket.close()"
   ]
  },
  {
   "cell_type": "code",
   "execution_count": null,
   "metadata": {
    "id": "iVcYxVmYJAH4"
   },
   "outputs": [],
   "source": [
    "context = zmq.Context()\n",
    "\n",
    "print(\"Connecting to Server\")\n",
    "client_socket = context.socket(zmq.PUSH)\n",
    "client_socket.connect(\"tcp://localhost:5555\")\n",
    "\n",
    "for i in range(10):\n",
    "    client_socket.send(b'Hello')"
   ]
  }
 ],
 "metadata": {
  "colab": {
   "collapsed_sections": [],
   "name": "Client.ipynb",
   "provenance": []
  },
  "kernelspec": {
   "display_name": "Python 3",
   "language": "python",
   "name": "python3"
  },
  "language_info": {
   "codemirror_mode": {
    "name": "ipython",
    "version": 3
   },
   "file_extension": ".py",
   "mimetype": "text/x-python",
   "name": "python",
   "nbconvert_exporter": "python",
   "pygments_lexer": "ipython3",
   "version": "3.7.1"
  }
 },
 "nbformat": 4,
 "nbformat_minor": 1
}
