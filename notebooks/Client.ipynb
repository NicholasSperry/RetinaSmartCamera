{
 "cells": [
  {
   "cell_type": "code",
   "execution_count": null,
   "metadata": {
    "id": "fW-HZbLyJAHq"
   },
   "outputs": [],
   "source": [
    "#!pip install dippykit"
   ]
  },
  {
   "cell_type": "code",
   "execution_count": 1,
   "metadata": {
    "executionInfo": {
     "elapsed": 1936,
     "status": "ok",
     "timestamp": 1612282335837,
     "user": {
      "displayName": "Nicholas Sperry",
      "photoUrl": "",
      "userId": "17478191746282896441"
     },
     "user_tz": -60
    },
    "id": "G1d_-yoVJAHx"
   },
   "outputs": [
    {
     "name": "stdout",
     "output_type": "stream",
     "text": [
      "/Users/nicholassperry/Desktop/Year 4.nosync/Pipeline/cythonised_retina/scripts\n",
      "/Users/nicholassperry/Desktop/Year 4.nosync/Pipeline\n"
     ]
    }
   ],
   "source": [
    "import numpy as np\n",
    "import cv2\n",
    "import zmq\n",
    "import time\n",
    "from dippykit.coding import huffman_encode\n",
    "from dippykit.coding import huffman_decode\n",
    "import pickle\n",
    "from matplotlib import pyplot as plt\n",
    "import zlib\n",
    "\n",
    "#Piotr's Retina\n",
    "from utils import *\n",
    "\n",
    "#Mani's Cythonised Retina\n",
    "%cd cythonised_retina/scripts\n",
    "import cv2\n",
    "import numpy as np\n",
    "from helpers import *\n",
    "import classes as cy\n",
    "%cd ../..\n",
    "\n",
    "retina_layers = 'cythonised_retina/data/retina_layers.pkl'\n",
    "left_path = 'cythonised_retina/data/left_path.pkl'\n",
    "right_path = 'cythonised_retina/data/right_path.pkl'\n",
    "\n",
    "video_path = '/Users/nicholassperry/Desktop/Dataset.nosync/Dataset/Train/Gargoyle.MOV'\n",
    "img = cv2.imread('beer.png')"
   ]
  },
  {
   "cell_type": "markdown",
   "metadata": {},
   "source": [
    "## Piotr's Retina"
   ]
  },
  {
   "cell_type": "code",
   "execution_count": 12,
   "metadata": {},
   "outputs": [],
   "source": [
    "R = Retina(gpu=False)\n",
    "R.loadLoc('/Users/nicholassperry/Desktop/Year 4.nosync/Pipeline/retina_data/ret50k_loc.pkl')\n",
    "R.loadCoeff('/Users/nicholassperry/Desktop/Year 4.nosync/Pipeline/retina_data/ret50k_coeff.pkl')\n",
    "fixation = (1080/2,1920/2)\n",
    "shape = (1080, 1920)\n",
    "R.prepare(shape, fixation)\n",
    "\n",
    "V = R.sample(img, fixation).astype('uint8')"
   ]
  },
  {
   "cell_type": "markdown",
   "metadata": {},
   "source": [
    "## Mani's Cythonised Retina"
   ]
  },
  {
   "cell_type": "code",
   "execution_count": 2,
   "metadata": {},
   "outputs": [],
   "source": [
    "cythonised_R = cy.Retina(retina_layers)\n",
    "cythonised_R.calibrate(img)\n",
    "\n",
    "cythonised_C = cy.Cortex(left_path, right_path)\n",
    "cythonised_C.calibrate(cythonised_R.getResult())"
   ]
  },
  {
   "cell_type": "code",
   "execution_count": 3,
   "metadata": {
    "executionInfo": {
     "elapsed": 74,
     "status": "ok",
     "timestamp": 1612282712205,
     "user": {
      "displayName": "Nicholas Sperry",
      "photoUrl": "",
      "userId": "17478191746282896441"
     },
     "user_tz": -60
    },
    "id": "XsUZoIwuU2Ms"
   },
   "outputs": [],
   "source": [
    "def send_image(n=5):\n",
    "    video_path = '/Users/nicholassperry/Desktop/Dataset.nosync/Dataset/Train/Gargoyle.MOV'\n",
    "    vidcap = cv2.VideoCapture(video_path)\n",
    "    success, img = vidcap.read()\n",
    "\n",
    "    count = 1\n",
    "    pickling_times = []\n",
    "    sending_times = []\n",
    "    total_start = time.time()\n",
    "    while success:\n",
    "        if count%n == 0:\n",
    "            break\n",
    "        #img = cv2.cvtColor(img, cv2.COLOR_BGR2RGB)\n",
    "        \n",
    "        t1 = time.time()\n",
    "        \n",
    "        data = pickle.dumps(img, protocol=-1)\n",
    "        data = zlib.compress(data, 6)\n",
    "        \n",
    "        t2 = time.time()\n",
    "        \n",
    "        tracker = socket.send(data, copy=False, track=True)\n",
    "        while tracker.done == False:\n",
    "            pass\n",
    "            \n",
    "        t3 = time.time()\n",
    "        \n",
    "        pickling_times.append(t2-t1)\n",
    "        sending_times.append(t3-t2)\n",
    "        \n",
    "        success, img = vidcap.read()\n",
    "        count += 1\n",
    "    total_end = time.time()\n",
    "    socket.send(b'Done')\n",
    "    socket.send_string(str(total_end-total_start))\n",
    "    \n",
    "    print('Successfully converted video to %d frames'%count)\n",
    "    \n",
    "    print('\\nProcessing time: %f'%sum(pickling_times))    \n",
    "    print('Time taken to send: %f'%sum(sending_times))\n",
    "    print('Overall total time: %f'%(total_end-total_start))\n",
    "\n",
    "def send_encoded_image(n=5):\n",
    "    video_path = '/Users/nicholassperry/Desktop/Dataset.nosync/Dataset/Train/Gargoyle.MOV'\n",
    "    vidcap = cv2.VideoCapture(video_path)\n",
    "    success, img = vidcap.read()\n",
    "\n",
    "    count = 1\n",
    "    pickling_times = []\n",
    "    sending_times = []\n",
    "    total_start = time.time()\n",
    "    while success:\n",
    "        if count%n == 0:\n",
    "            break\n",
    "        #img = cv2.cvtColor(img, cv2.COLOR_BGR2RGB)\n",
    "        \n",
    "        t1 = time.time()\n",
    "        \n",
    "        encoded_img, bits, code_dict, _ = huffman_encode(img.flatten())\n",
    "        data = [encoded_img, code_dict, bits]\n",
    "        data = pickle.dumps(data, protocol=-1)\n",
    "        data = zlib.compress(data, 6)\n",
    "        \n",
    "        t2 = time.time()\n",
    "        \n",
    "        tracker = socket.send(data, copy=False, track=True)\n",
    "        while tracker.done == False:\n",
    "            pass\n",
    "            \n",
    "        t3 = time.time()\n",
    "        \n",
    "        pickling_times.append(t2-t1)\n",
    "        sending_times.append(t3-t2)\n",
    "        \n",
    "        success, img = vidcap.read()\n",
    "        count += 1\n",
    "    total_end = time.time()\n",
    "    socket.send(b'Done')\n",
    "    socket.send_string(str(total_end-total_start))\n",
    "    \n",
    "    print('Successfully converted video to %d frames'%count)\n",
    "    \n",
    "    print('\\nProcessing time: %f'%sum(pickling_times))    \n",
    "    print('Time taken to send: %f'%sum(sending_times))\n",
    "    print('Overall total time: %f'%(total_end-total_start))"
   ]
  },
  {
   "cell_type": "code",
   "execution_count": 4,
   "metadata": {
    "executionInfo": {
     "elapsed": 123,
     "status": "ok",
     "timestamp": 1612282469191,
     "user": {
      "displayName": "Nicholas Sperry",
      "photoUrl": "",
      "userId": "17478191746282896441"
     },
     "user_tz": -60
    },
    "id": "dZfFomPrJAH0"
   },
   "outputs": [],
   "source": [
    "def send_full_vector(n=5):\n",
    "    video_path = '/Users/nicholassperry/Desktop/Dataset.nosync/Dataset/Train/Gargoyle.MOV'\n",
    "    vidcap = cv2.VideoCapture(video_path)\n",
    "    success, img = vidcap.read()\n",
    "\n",
    "    count = 1\n",
    "    processing_times = []\n",
    "    sending_times = []\n",
    "    total_start = time.time()\n",
    "    \n",
    "    while success:\n",
    "        print(count)\n",
    "        if count%n == 0:\n",
    "            break\n",
    "        img = cv2.cvtColor(img, cv2.COLOR_BGR2RGB)\n",
    "\n",
    "        t1 = time.time()\n",
    "        \n",
    "        V = R.sample(img, fixation).astype('uint8')\n",
    "        V = pickle.dumps(V, protocol=-1)\n",
    "        #V = V.tostring()\n",
    "        \n",
    "        t2 = time.time()\n",
    "        \n",
    "        tracker = socket.send(V, copy=False, track=True)\n",
    "        while tracker.done == False:\n",
    "            pass\n",
    "            \n",
    "        t3 = time.time()\n",
    "\n",
    "        processing_times.append(t2-t1)\n",
    "        sending_times.append(t3-t2)\n",
    "        \n",
    "        success, img = vidcap.read()\n",
    "        count += 1\n",
    "    total_end = time.time()\n",
    "    print('Successfully converted video to %d frames'%count)\n",
    "    \n",
    "    print('\\nProcessing time: %f'%sum(processing_times))    \n",
    "    print('Time taken to send: %f'%sum(sending_times))\n",
    "    print('Overall total time: %f'%(total_end-total_start))\n",
    "\n",
    "def send_encoded_vector(n, cythonised=True):\n",
    "    socket.send_string(str(cythonised))\n",
    "    \n",
    "    video_path = '/Users/nicholassperry/Desktop/Dataset.nosync/Dataset/Train/Gargoyle.MOV'\n",
    "    vidcap = cv2.VideoCapture(video_path)\n",
    "    success, img = vidcap.read()\n",
    "\n",
    "    count = 1\n",
    "    huffman_times = []\n",
    "    sampling_times = []\n",
    "    sending_times = []\n",
    "    total_start = time.time()\n",
    "    while success:\n",
    "        print(count, end='\\r')\n",
    "        if count%n == 0:\n",
    "            break\n",
    "        #img = cv2.cvtColor(img, cv2.COLOR_BGR2RGB)\n",
    "        \n",
    "        t1 = time.time()\n",
    "        if cythonised:\n",
    "            cythonised_R.sample(img)\n",
    "            V = cythonised_R.sampledVector\n",
    "        else:\n",
    "            V = R.sample(img, fixation)\n",
    "        \n",
    "        t2 = time.time()\n",
    "        \n",
    "        #encoded_V, bits, code_dict, _ = huffman_encode(V.flatten())\n",
    "        data = V#[encoded_V, code_dict, bits]\n",
    "        data = pickle.dumps(data, protocol=-1)\n",
    "        data = zlib.compress(data, 6)\n",
    "        \n",
    "        t3 = time.time()\n",
    "        \n",
    "        tracker = socket.send(data, copy=False, track=True)\n",
    "        while tracker.done == False:\n",
    "            pass\n",
    "\n",
    "        t4 = time.time()\n",
    "        \n",
    "        sampling_times.append(t2-t1)\n",
    "        huffman_times.append(t3-t2)\n",
    "        sending_times.append(t4-t3)\n",
    "        success, img = vidcap.read()\n",
    "        count += 1\n",
    "    total_end = time.time()\n",
    "    \n",
    "    socket.send(b'Done')\n",
    "    socket.send_string(str(total_end-total_start))\n",
    "    \n",
    "    print('Successfully converted video to %d frames'%count)\n",
    "    \n",
    "    print('\\nSampling time: %f'%sum(sampling_times))\n",
    "    print('Huffman encoding time: %f'%sum(huffman_times))\n",
    "    print('Time taken to send: %f'%sum(sending_times))\n",
    "    print('Overall total time: %f'%(total_end-total_start))"
   ]
  },
  {
   "cell_type": "code",
   "execution_count": 10,
   "metadata": {
    "colab": {
     "base_uri": "https://localhost:8080/"
    },
    "executionInfo": {
     "elapsed": 3233,
     "status": "ok",
     "timestamp": 1612283236059,
     "user": {
      "displayName": "Nicholas Sperry",
      "photoUrl": "",
      "userId": "17478191746282896441"
     },
     "user_tz": -60
    },
    "id": "pZSZU-oeX8WW",
    "outputId": "603bb99e-a753-49ec-db4b-a08ef56fc7dd"
   },
   "outputs": [
    {
     "name": "stdout",
     "output_type": "stream",
     "text": [
      "Connecting to Server…\n",
      "Successfully converted video to 100 frames\n",
      "\n",
      "Processing time: 17.387558\n",
      "Time taken to send: 0.736770\n",
      "Overall total time: 18.808660\n"
     ]
    }
   ],
   "source": [
    "context = zmq.Context()\n",
    "\n",
    "#  Socket to talk to server\n",
    "print(\"Connecting to Server…\")\n",
    "socket = context.socket(zmq.PUSH)\n",
    "socket.connect(\"tcp://localhost:5555\")\n",
    "#time.sleep(2)\n",
    "\n",
    "socket.send(b'Normal')\n",
    "#Server expects a string to determine whether to use Mani's or Piotr's code\n",
    "socket.send_string('')\n",
    "#send_encoded_image(n=5)\n",
    "send_image(n=100)\n",
    "\n",
    "socket.close()"
   ]
  },
  {
   "cell_type": "code",
   "execution_count": 14,
   "metadata": {
    "colab": {
     "base_uri": "https://localhost:8080/"
    },
    "executionInfo": {
     "elapsed": 21810,
     "status": "ok",
     "timestamp": 1612263853198,
     "user": {
      "displayName": "Nicholas Sperry",
      "photoUrl": "",
      "userId": "17478191746282896441"
     },
     "user_tz": -60
    },
    "id": "-edLeZWSJAH2",
    "outputId": "c6aeefb7-d3e1-4e7f-cd29-dbd9e4d42284"
   },
   "outputs": [
    {
     "name": "stdout",
     "output_type": "stream",
     "text": [
      "Connecting to Server…\n",
      "Successfully converted video to 5 frames\n",
      "\n",
      "Sampling time: 14.430045\n",
      "Huffman encoding time: 0.221961\n",
      "Time taken to send: 0.028376\n",
      "Overall total time: 14.726953\n"
     ]
    }
   ],
   "source": [
    "context = zmq.Context()\n",
    "\n",
    "#  Socket to talk to server\n",
    "print(\"Connecting to Server…\")\n",
    "socket = context.socket(zmq.PUSH)\n",
    "socket.connect(\"tcp://localhost:5555\")\n",
    "\n",
    "socket.send(b'Cort')\n",
    "send_encoded_vector(n=5, cythonised=False)\n",
    "\n",
    "socket.close()"
   ]
  },
  {
   "cell_type": "code",
   "execution_count": null,
   "metadata": {},
   "outputs": [],
   "source": [
    "x = np.array([1, 2, 3, 4, 5]*10)\n",
    "enc, b, cd, _ = huffman_encode(x.astype('uint64'))\n",
    "enc"
   ]
  },
  {
   "cell_type": "markdown",
   "metadata": {
    "id": "1t035wiGJAH2"
   },
   "source": [
    "# Video transmission using Mani's cythonised Retina"
   ]
  },
  {
   "cell_type": "code",
   "execution_count": 34,
   "metadata": {
    "id": "iVcYxVmYJAH4"
   },
   "outputs": [
    {
     "name": "stdout",
     "output_type": "stream",
     "text": [
      "/Users/nicholassperry/Desktop/Year 4.nosync/Pipeline/cythonised_retina/scripts\n",
      "/Users/nicholassperry/Desktop/Year 4.nosync/Pipeline\n"
     ]
    }
   ],
   "source": [
    "### This redefines Piotr's Retina\n",
    "%cd cythonised_retina/scripts\n",
    "import cv2\n",
    "import numpy as np\n",
    "from helpers import *\n",
    "import classes as cy\n",
    "%cd ../..\n",
    "\n",
    "retina_layers = 'cythonised_retina/data/retina_layers.pkl'\n",
    "left_path = 'cythonised_retina/data/left_path.pkl'\n",
    "right_path = 'cythonised_retina/data/right_path.pkl'\n",
    "\n",
    "video_path = '/Users/nicholassperry/Desktop/Dataset.nosync/Dataset/Train/Gargoyle.MOV'\n",
    "\n",
    "img = cv2.imread('beer.png')"
   ]
  },
  {
   "cell_type": "code",
   "execution_count": 41,
   "metadata": {},
   "outputs": [],
   "source": [
    "R = cy.Retina(retina_layers)\n",
    "R.calibrate(img)\n",
    "\n",
    "#C = cy.Cortex(left_path, right_path)\n",
    "#C.calibrate(R.getResult())"
   ]
  },
  {
   "cell_type": "code",
   "execution_count": 50,
   "metadata": {},
   "outputs": [
    {
     "name": "stdout",
     "output_type": "stream",
     "text": [
      "[       0   379864   391385 ... 24524831 24839313 25110572]\n",
      "[  0   1   2   3   4   5   6   7   8   9  10  11  12  13  14  15  16  17\n",
      "  18  19  20  21  22  23  24  25  26  27  28  29  30  31  32  33  34  35\n",
      "  36  37  38  39  40  41  42  43  44  45  46  47  48  49  50  51  52  53\n",
      "  54  55  56  57  58  59  60  61  62  63  64  65  66  67  68  69  70  71\n",
      "  72  73  74  75  76  77  78  79  80  81  82  83  84  85  86  87  88  89\n",
      "  90  91  92  93  94  95  96  97  98  99 100 101 102 103 104 105 106 107\n",
      " 108 109 110 111 112 113 114 115 116 117 118 119 120 121 122 123 124 125\n",
      " 126 127 128 129 130 131 132 133 134 135 136 137 138 139 140 141 142 143\n",
      " 144 145 146 147 148 149 150 151 152 153 154 155 156 157 158 159 160 161\n",
      " 162 163 164 165 166 167 168 169 170 171 172 173 174 175 176 177 178 179\n",
      " 180 181 182 183 184 185 186 187 188 189 190 191 192 193 194 195 196 197\n",
      " 198 199 200 201 202 203 204 205 206 207 208 209 210 211 212 213 214 215\n",
      " 216 217 218 219 220 221 222 223 224 225 226 227 228 229 230 231 232 233\n",
      " 234 235 236 237 238 239 240 241 242 243 244 245 246 247 248 249 250 251\n",
      " 252 253 254 255]\n",
      "[          1      202924      304371 ... 12524565489 12592452587\n",
      " 12950450899]\n",
      "[0]\n"
     ]
    }
   ],
   "source": [
    "#R.scalingFactor = np.float64(1)\n",
    "R.sample(img)\n",
    "#\n",
    "print(np.unique(R.sampledVector))\n",
    "R.sampledVector = R.sampledVector.astype('uint8').astype('uint64')\n",
    "print(np.unique(R.sampledVector))\n",
    "\n",
    "print(np.unique(R.normalizationVector))\n",
    "#R.normalizationVector = R.normalizationVector.astype('uint8').astype('uint64')\n",
    "#R.scalingFactor = R.scalingFactor.astype('uint8')\n",
    "R.backProject()\n",
    "#print(V[0][:10])\n",
    "#print(V.astype('uint8')[0][:10])\n",
    "bp = R.backProjectedVector.astype('uint8')\n",
    "\n",
    "print(np.unique(bp))"
   ]
  },
  {
   "cell_type": "code",
   "execution_count": null,
   "metadata": {},
   "outputs": [],
   "source": [
    "R.sample(img)\n",
    "\n",
    "#V = R.sampledVector.astype('uint8')\n",
    "\n",
    "#R.sampledVector = V.astype('uint64')\n",
    "#R.scalingFactor = np.float64(1.2)# R.scalingFactor.astype('uint8').astype('float64')\n",
    "C.backProject(R.getResult())\n",
    "print(type(R.scalingFactor))\n"
   ]
  },
  {
   "cell_type": "code",
   "execution_count": 44,
   "metadata": {},
   "outputs": [
    {
     "data": {
      "text/plain": [
       "<matplotlib.image.AxesImage at 0x7f85b97dae80>"
      ]
     },
     "execution_count": 44,
     "metadata": {},
     "output_type": "execute_result"
    },
    {
     "data": {
      "image/png": "[encoded data removed]",
      "text/plain": [
       "<Figure size 432x288 with 1 Axes>"
      ]
     },
     "metadata": {
      "needs_background": "light"
     },
     "output_type": "display_data"
    }
   ],
   "source": [
    "from matplotlib import pyplot as plt\n",
    "ret = get_retinaBackProjected_BGR(R)\n",
    "#cort = get_cortexBackProjected_BGR(C)\n",
    "plt.imshow(ret)"
   ]
  },
  {
   "cell_type": "code",
   "execution_count": null,
   "metadata": {},
   "outputs": [],
   "source": []
  }
 ],
 "metadata": {
  "colab": {
   "collapsed_sections": [],
   "name": "Client.ipynb",
   "provenance": []
  },
  "kernelspec": {
   "display_name": "Python 3",
   "language": "python",
   "name": "python3"
  },
  "language_info": {
   "codemirror_mode": {
    "name": "ipython",
    "version": 3
   },
   "file_extension": ".py",
   "mimetype": "text/x-python",
   "name": "python",
   "nbconvert_exporter": "python",
   "pygments_lexer": "ipython3",
   "version": "3.7.1"
  }
 },
 "nbformat": 4,
 "nbformat_minor": 1
}
