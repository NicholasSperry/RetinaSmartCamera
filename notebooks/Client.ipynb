{
 "cells": [
  {
   "cell_type": "code",
   "execution_count": null,
   "metadata": {},
   "outputs": [],
   "source": [
    "#!pip install dippykit"
   ]
  },
  {
   "cell_type": "code",
   "execution_count": 11,
   "metadata": {},
   "outputs": [],
   "source": [
    "import numpy as np\n",
    "import cv2\n",
    "import zmq\n",
    "import time\n",
    "from statistics import stdev\n",
    "from utils import *\n",
    "from dippykit.coding import huffman_encode\n",
    "from dippykit.coding import huffman_decode\n",
    "import pickle"
   ]
  },
  {
   "cell_type": "code",
   "execution_count": 27,
   "metadata": {},
   "outputs": [
    {
     "name": "stdout",
     "output_type": "stream",
     "text": [
      "(5,)\n",
      "<class 'dict'>\n",
      "[1 2 3 4 5]\n"
     ]
    }
   ],
   "source": [
    "x = np.array([1, 2, 3, 4, 5])\n",
    "print(x.shape)\n",
    "encoded_x, stream_length, code_dict, prob_dict = huffman_encode(x)\n",
    "print(type(code_dict))\n",
    "decoded_x = huffman_decode(encoded_x, code_dict, stream_length)\n",
    "print(decoded_x)"
   ]
  },
  {
   "cell_type": "code",
   "execution_count": 52,
   "metadata": {},
   "outputs": [],
   "source": [
    "def send_full_vector(n=5):\n",
    "    video_path = '/Users/nicholassperry/Desktop/Dataset.nosync/Dataset/Train/Gargoyle.MOV'\n",
    "    vidcap = cv2.VideoCapture(video_path)\n",
    "    success, img = vidcap.read()\n",
    "\n",
    "    count = 1\n",
    "    processing_times = []\n",
    "    sending_times = []\n",
    "    total_start = time.time()\n",
    "    while success:\n",
    "        print(count)\n",
    "        if count%n == 0:\n",
    "            break\n",
    "        img = cv2.cvtColor(img, cv2.COLOR_BGR2RGB)\n",
    "        V = R.sample(img, fixation).astype('uint8')\n",
    "\n",
    "        start = time.time()\n",
    "        V = V.tostring()\n",
    "        send_start = time.time()\n",
    "        tracker = socket.send(V, copy=False, track=True)\n",
    "        while tracker.done == False:\n",
    "            pass\n",
    "            \n",
    "        end = time.time()\n",
    "        processing_times.append(send_start-start)\n",
    "        sending_times.append(end-send_start)\n",
    "        \n",
    "        success, img = vidcap.read()\n",
    "        count += 1\n",
    "    total_end = time.time()\n",
    "    \n",
    "    print('Successfully converted video to %d frames'%count)\n",
    "    \n",
    "    print('\\nProcessing time: %f'%sum(processing_times))\n",
    "    avg = sum(processing_times)/len(processing_times)\n",
    "    std = stdev(processing_times)\n",
    "    #print('Average time taken: {avg:.5f} ± {std:.5f}'.format(avg=avg, std=std))\n",
    "    \n",
    "    print('Time taken to send: %f'%sum(sending_times))\n",
    "    avg = sum(sending_times)/len(sending_times)\n",
    "    std = stdev(sending_times)\n",
    "    #print('Average time taken to send: {avg:.5f} ± {std:.5f}'.format(avg=avg, std=std))\n",
    "\n",
    "    print('Overall total time: %f'%(total_end-total_start))\n",
    "\n",
    "def send_encoded_vector(n):\n",
    "    video_path = '/Users/nicholassperry/Desktop/Dataset.nosync/Dataset/Train/Gargoyle.MOV'\n",
    "    vidcap = cv2.VideoCapture(video_path)\n",
    "    success, img = vidcap.read()\n",
    "\n",
    "    count = 1\n",
    "    processing_times = []\n",
    "    sending_times = []\n",
    "    total_start = time.time()\n",
    "    while success:\n",
    "        print(count)\n",
    "        if count%n == 0:\n",
    "            break\n",
    "        img = cv2.cvtColor(img, cv2.COLOR_BGR2RGB)\n",
    "        V = R.sample(img, fixation).astype('uint8')\n",
    "        start = time.time()\n",
    "        \n",
    "        encoded_V, bits, code_dict, _ = huffman_encode(V.flatten())\n",
    "        #data = [encoded_V, code_dict, bits]\n",
    "        data = encoded_V.tostring()#pickle.dumps(data, protocol=-1)\n",
    "        \n",
    "        sending_start = time.time()\n",
    "        tracker = socket.send(data, copy=False, track=True)\n",
    "        while tracker.done == False:\n",
    "            pass\n",
    "\n",
    "        end = time.time()\n",
    "        processing_times.append(sending_start-start)\n",
    "        sending_times.append(end-sending_start)\n",
    "        success, img = vidcap.read()\n",
    "        count += 1\n",
    "    total_end = time.time()\n",
    "    print('Successfully converted video to %d frames'%count)\n",
    "    \n",
    "    print('\\nProcessing time: %f'%sum(processing_times))\n",
    "    #avg = sum(processing_times)/len(processing_times)\n",
    "    #std = stdev(processing_times)\n",
    "    #print('Average time taken: {avg:.5f} ± {std:.5f}'.format(avg=avg, std=std))\n",
    "    print('Time taken to send: %f'%sum(sending_times))\n",
    "    print('Overall total time: %f'%(total_end-total_start))"
   ]
  },
  {
   "cell_type": "code",
   "execution_count": 29,
   "metadata": {},
   "outputs": [],
   "source": [
    "R = Retina(gpu=False)\n",
    "R.loadLoc('/Users/nicholassperry/Desktop/Year 4.nosync/Pipeline/retina_data/ret50k_loc.pkl')\n",
    "R.loadCoeff('/Users/nicholassperry/Desktop/Year 4.nosync/Pipeline/retina_data/ret50k_coeff.pkl')\n",
    "fixation = (1920/2, 1080/2)\n",
    "shape = (1920, 1080)\n",
    "R.prepare(shape, fixation)"
   ]
  },
  {
   "cell_type": "code",
   "execution_count": 40,
   "metadata": {},
   "outputs": [],
   "source": [
    "n = 25"
   ]
  },
  {
   "cell_type": "code",
   "execution_count": 54,
   "metadata": {},
   "outputs": [
    {
     "name": "stdout",
     "output_type": "stream",
     "text": [
      "Connecting to Server…\n",
      "1\n"
     ]
    },
    {
     "name": "stderr",
     "output_type": "stream",
     "text": [
      "/Users/nicholassperry/Desktop/Year 4.nosync/Pipeline/utils.py:109: RuntimeWarning: divide by zero encountered in true_divide\n",
      "  if rgb: f = 1.0/np.sum(m*kernel, axis = (0,1)) #TODO fix invalid value warnings\n",
      "/Users/nicholassperry/Desktop/Year 4.nosync/Pipeline/utils.py:113: RuntimeWarning: invalid value encountered in multiply\n",
      "  if rgb: V[i] = np.sum(extract*kernel, axis=(0,1)) * f\n"
     ]
    },
    {
     "name": "stdout",
     "output_type": "stream",
     "text": [
      "2\n",
      "3\n",
      "4\n",
      "5\n",
      "6\n",
      "7\n",
      "8\n",
      "9\n",
      "10\n",
      "11\n",
      "12\n",
      "13\n",
      "14\n",
      "15\n",
      "16\n",
      "17\n",
      "18\n",
      "19\n",
      "20\n",
      "21\n",
      "22\n",
      "23\n",
      "24\n",
      "25\n",
      "Successfully converted video to 25 frames\n",
      "\n",
      "Processing time: 0.000562\n",
      "Time taken to send: 0.157380\n",
      "Overall total time: 82.054872\n"
     ]
    }
   ],
   "source": [
    "context = zmq.Context()\n",
    "\n",
    "#  Socket to talk to server\n",
    "print(\"Connecting to Server…\")\n",
    "socket = context.socket(zmq.PUSH)\n",
    "socket.connect(\"tcp://localhost:5555\")\n",
    "\n",
    "send_full_vector(n)\n",
    "\n",
    "socket.close()"
   ]
  },
  {
   "cell_type": "code",
   "execution_count": 44,
   "metadata": {},
   "outputs": [
    {
     "name": "stdout",
     "output_type": "stream",
     "text": [
      "Connecting to Server…\n",
      "1\n"
     ]
    },
    {
     "name": "stderr",
     "output_type": "stream",
     "text": [
      "/Users/nicholassperry/Desktop/Year 4.nosync/Pipeline/utils.py:109: RuntimeWarning: divide by zero encountered in true_divide\n",
      "  if rgb: f = 1.0/np.sum(m*kernel, axis = (0,1)) #TODO fix invalid value warnings\n",
      "/Users/nicholassperry/Desktop/Year 4.nosync/Pipeline/utils.py:113: RuntimeWarning: invalid value encountered in multiply\n",
      "  if rgb: V[i] = np.sum(extract*kernel, axis=(0,1)) * f\n"
     ]
    },
    {
     "name": "stdout",
     "output_type": "stream",
     "text": [
      "2\n",
      "3\n",
      "4\n",
      "5\n",
      "6\n",
      "7\n",
      "8\n",
      "9\n",
      "10\n",
      "11\n",
      "12\n",
      "13\n",
      "14\n",
      "15\n",
      "16\n",
      "17\n",
      "18\n",
      "19\n",
      "20\n",
      "21\n",
      "22\n",
      "23\n",
      "24\n",
      "25\n",
      "Successfully converted video to 25 frames\n",
      "\n",
      "Processing time: 2.234727\n",
      "Time taken to send: 0.160053\n",
      "Overall total time: 79.575132\n"
     ]
    }
   ],
   "source": [
    "context = zmq.Context()\n",
    "#  Socket to talk to server\n",
    "print(\"Connecting to Server…\")\n",
    "socket = context.socket(zmq.PUSH)\n",
    "socket.connect(\"tcp://localhost:5555\")\n",
    "\n",
    "send_encoded_vector(n)\n",
    "\n",
    "socket.close()"
   ]
  },
  {
   "cell_type": "code",
   "execution_count": 53,
   "metadata": {},
   "outputs": [
    {
     "name": "stdout",
     "output_type": "stream",
     "text": [
      "Connecting to Server…\n",
      "1\n"
     ]
    },
    {
     "name": "stderr",
     "output_type": "stream",
     "text": [
      "/Users/nicholassperry/Desktop/Year 4.nosync/Pipeline/utils.py:109: RuntimeWarning: divide by zero encountered in true_divide\n",
      "  if rgb: f = 1.0/np.sum(m*kernel, axis = (0,1)) #TODO fix invalid value warnings\n",
      "/Users/nicholassperry/Desktop/Year 4.nosync/Pipeline/utils.py:113: RuntimeWarning: invalid value encountered in multiply\n",
      "  if rgb: V[i] = np.sum(extract*kernel, axis=(0,1)) * f\n"
     ]
    },
    {
     "name": "stdout",
     "output_type": "stream",
     "text": [
      "2\n",
      "3\n",
      "4\n",
      "5\n",
      "6\n",
      "7\n",
      "8\n",
      "9\n",
      "10\n",
      "11\n",
      "12\n",
      "13\n",
      "14\n",
      "15\n",
      "16\n",
      "17\n",
      "18\n",
      "19\n",
      "20\n",
      "21\n",
      "22\n",
      "23\n",
      "24\n",
      "25\n",
      "Successfully converted video to 25 frames\n",
      "\n",
      "Processing time: 2.324750\n",
      "Time taken to send: 0.151740\n",
      "Overall total time: 85.114513\n"
     ]
    }
   ],
   "source": [
    "context = zmq.Context()\n",
    "#  Socket to talk to server\n",
    "print(\"Connecting to Server…\")\n",
    "socket = context.socket(zmq.PUSH)\n",
    "socket.connect(\"tcp://localhost:5555\")\n",
    "\n",
    "send_encoded_vector(n)\n",
    "\n",
    "socket.close()"
   ]
  },
  {
   "cell_type": "code",
   "execution_count": 1,
   "metadata": {},
   "outputs": [
    {
     "name": "stdout",
     "output_type": "stream",
     "text": [
      "Connecting to hello world server…\n",
      "Sending request 0 …\n",
      "Received reply 0 [ b'World' ]\n",
      "Sending request 1 …\n",
      "Received reply 1 [ b'World' ]\n",
      "Sending request 2 …\n",
      "Received reply 2 [ b'World' ]\n",
      "Sending request 3 …\n",
      "Received reply 3 [ b'World' ]\n",
      "Sending request 4 …\n",
      "Received reply 4 [ b'World' ]\n",
      "Sending request 5 …\n",
      "Received reply 5 [ b'World' ]\n",
      "Sending request 6 …\n",
      "Received reply 6 [ b'World' ]\n",
      "Sending request 7 …\n",
      "Received reply 7 [ b'World' ]\n",
      "Sending request 8 …\n",
      "Received reply 8 [ b'World' ]\n",
      "Sending request 9 …\n",
      "Received reply 9 [ b'World' ]\n"
     ]
    }
   ],
   "source": [
    "import zmq\n",
    "import time\n",
    "\n",
    "context = zmq.Context()\n",
    "\n",
    "#  Socket to talk to server\n",
    "print(\"Connecting to hello world server…\")\n",
    "socket = context.socket(zmq.REQ)\n",
    "socket.connect(\"tcp://localhost:5555\")\n",
    "\n",
    "#  Do 10 requests, waiting each time for a response\n",
    "for request in range(10):\n",
    "    print(f\"Sending request {request} …\")\n",
    "    socket.send(b\"Hello\")\n",
    "\n",
    "    #  Get the reply.\n",
    "    message = socket.recv()\n",
    "    print(f\"Received reply {request} [ {message} ]\")\n"
   ]
  },
  {
   "cell_type": "code",
   "execution_count": null,
   "metadata": {},
   "outputs": [],
   "source": []
  }
 ],
 "metadata": {
  "kernelspec": {
   "display_name": "Python 3",
   "language": "python",
   "name": "python3"
  },
  "language_info": {
   "codemirror_mode": {
    "name": "ipython",
    "version": 3
   },
   "file_extension": ".py",
   "mimetype": "text/x-python",
   "name": "python",
   "nbconvert_exporter": "python",
   "pygments_lexer": "ipython3",
   "version": "3.7.1"
  }
 },
 "nbformat": 4,
 "nbformat_minor": 2
}
